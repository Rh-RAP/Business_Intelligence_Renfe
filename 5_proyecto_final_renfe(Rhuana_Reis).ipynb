{
  "cells": [
    {
      "cell_type": "markdown",
      "metadata": {
        "id": "view-in-github",
        "colab_type": "text"
      },
      "source": [
        "<a href=\"https://colab.research.google.com/github/Rh-RAP/Business_Intelligence_Renfe/blob/main/5_proyecto_final_renfe(Rhuana_Reis).ipynb\" target=\"_parent\"><img src=\"https://colab.research.google.com/assets/colab-badge.svg\" alt=\"Open In Colab\"/></a>"
      ]
    },
    {
      "cell_type": "markdown",
      "metadata": {
        "id": "0JebDPs2c3U-"
      },
      "source": [
        "![Nuclio logo](https://nuclio.school/wp-content/uploads/2018/12/nucleoDS-newBlack.png)\n",
        "\n",
        "# Proyecto final - Data Analytics y Business Intelligence\n",
        "\n",
        "Recibimos dos datasets:\n",
        "\n",
        "1. `renfe.csv`: Información de búsquedas de billetes que se ha extrajo de la página de Renfe.\n",
        "2. `coordenadas_ciudades.csv`: Latitud y longitud de provincias españolas.\n",
        "\n",
        "Queremos usar estos datasets para un modelo de Machine Learning que utilizaremos para predecir los precios de los billetes. Y, para ello, necesitamos limpiar, explorar y pre-procesar el dataset.\n",
        "\n",
        "## Reglas de juego\n",
        "\n",
        "1. El proyecto se debe entregar en grupos de dos o individualmente. \n",
        "2. Cada respuesta correcta suma un punto.\n",
        "3. La calificación final consistirá en la suma de todos los puntos obtenidos sobre el total de puntos posibles.\n",
        "\n",
        "\n",
        "## Diccionario de datos\n",
        "\n",
        "Esta es la información provista:\n",
        "\n",
        "### `renfe.csv`\n",
        "- `FECHA_CONSULTA`: Fecha en la que se consultó la página.\n",
        "- `FECHA_INICIO`: Fecha de inicio del trayecto.\n",
        "- `FECHA_FIN`: Fecha de finalización del trayecto.\n",
        "- `CIUDAD_ORIGEN`: Ciudad de origen del trayecto.\n",
        "- `CIUDAD_DESTINO`: Ciudad destino del trayecto.\n",
        "- `TIPO_TREN`: Tipo de tren.\n",
        "- `TIPO_TARIFA`: Tipo de tarifa del billete.\n",
        "- `CLASE`: Clase del asiento seleccionado.\n",
        "- `PRECIO`: Precio del tren seleccionado.\n",
        "\n",
        "### `coordenadas_ciudades.csv`\n",
        "- `ciudad`: Nombre de la ciudad.\n",
        "- `latitud`: Coordenada de latitud de la ciudad.\n",
        "- `longitud`: Coordenada de longitud de la ciudad."
      ]
    },
    {
      "cell_type": "markdown",
      "metadata": {
        "id": "c5Fo4fEKc3VC"
      },
      "source": [
        "## Importar librerías"
      ]
    },
    {
      "cell_type": "code",
      "execution_count": null,
      "metadata": {
        "id": "Z-Qvio9Ec3VC"
      },
      "outputs": [],
      "source": [
        "import pandas as pd"
      ]
    },
    {
      "cell_type": "markdown",
      "metadata": {
        "id": "FPxzn1EPc3VD"
      },
      "source": [
        "## P0: Lee el dataset `renfe.csv`"
      ]
    },
    {
      "cell_type": "code",
      "execution_count": null,
      "metadata": {
        "id": "yFueTZQIc3VD"
      },
      "outputs": [],
      "source": [
        "renfe_df = pd.read_csv('renfe.csv', sep= ';')"
      ]
    },
    {
      "cell_type": "markdown",
      "metadata": {
        "id": "5JxLz2VGc3VE"
      },
      "source": [
        "## P1: Visualiza las primeras y las últimas filas del dataset"
      ]
    },
    {
      "cell_type": "code",
      "execution_count": null,
      "metadata": {
        "id": "3fUpLZbbc3VE",
        "outputId": "d6a3e3de-ccb2-474b-a804-9e2cc9486b2b"
      },
      "outputs": [
        {
          "data": {
            "text/html": [
              "<div>\n",
              "<style scoped>\n",
              "    .dataframe tbody tr th:only-of-type {\n",
              "        vertical-align: middle;\n",
              "    }\n",
              "\n",
              "    .dataframe tbody tr th {\n",
              "        vertical-align: top;\n",
              "    }\n",
              "\n",
              "    .dataframe thead th {\n",
              "        text-align: right;\n",
              "    }\n",
              "</style>\n",
              "<table border=\"1\" class=\"dataframe\">\n",
              "  <thead>\n",
              "    <tr style=\"text-align: right;\">\n",
              "      <th></th>\n",
              "      <th>FECHA_CONSULTA</th>\n",
              "      <th>FECHA_INICIO</th>\n",
              "      <th>FECHA_FIN</th>\n",
              "      <th>CIUDAD_ORIGEN</th>\n",
              "      <th>CIUDAD_DESTINO</th>\n",
              "      <th>TIPO_TREN</th>\n",
              "      <th>TIPO_TARIFA</th>\n",
              "      <th>CLASE</th>\n",
              "      <th>PRECIO</th>\n",
              "    </tr>\n",
              "  </thead>\n",
              "  <tbody>\n",
              "    <tr>\n",
              "      <th>383563</th>\n",
              "      <td>2019-05-06 05:11:53</td>\n",
              "      <td>2019-05-10 19:40:00</td>\n",
              "      <td>2019-05-10 21:29:00</td>\n",
              "      <td>MADRID</td>\n",
              "      <td>VALENCIA</td>\n",
              "      <td>AVE</td>\n",
              "      <td>Flexible</td>\n",
              "      <td>Turista</td>\n",
              "      <td>73.10</td>\n",
              "    </tr>\n",
              "    <tr>\n",
              "      <th>383564</th>\n",
              "      <td>2019-06-19 21:48:56</td>\n",
              "      <td>2019-08-05 20:00:00</td>\n",
              "      <td>2019-08-05 23:10:00</td>\n",
              "      <td>BARCELONA</td>\n",
              "      <td>MADRID</td>\n",
              "      <td>AVE</td>\n",
              "      <td>Promo</td>\n",
              "      <td>Preferente</td>\n",
              "      <td>54.45</td>\n",
              "    </tr>\n",
              "    <tr>\n",
              "      <th>383565</th>\n",
              "      <td>2019-04-24 23:21:44</td>\n",
              "      <td>2019-04-29 16:15:00</td>\n",
              "      <td>2019-04-29 17:55:00</td>\n",
              "      <td>VALENCIA</td>\n",
              "      <td>MADRID</td>\n",
              "      <td>AVE</td>\n",
              "      <td>Promo</td>\n",
              "      <td>Turista</td>\n",
              "      <td>27.80</td>\n",
              "    </tr>\n",
              "    <tr>\n",
              "      <th>383566</th>\n",
              "      <td>2019-05-27 21:05:19</td>\n",
              "      <td>2019-07-07 15:00:00</td>\n",
              "      <td>2019-07-07 17:21:00</td>\n",
              "      <td>MADRID</td>\n",
              "      <td>SEVILLA</td>\n",
              "      <td>AVE</td>\n",
              "      <td>Promo</td>\n",
              "      <td>Turista</td>\n",
              "      <td>47.30</td>\n",
              "    </tr>\n",
              "    <tr>\n",
              "      <th>383567</th>\n",
              "      <td>2019-05-27 15:04:14</td>\n",
              "      <td>2019-06-16 18:35:00</td>\n",
              "      <td>2019-06-16 20:21:00</td>\n",
              "      <td>VALENCIA</td>\n",
              "      <td>MADRID</td>\n",
              "      <td>AVE</td>\n",
              "      <td>Flexible</td>\n",
              "      <td>Turista</td>\n",
              "      <td>73.10</td>\n",
              "    </tr>\n",
              "  </tbody>\n",
              "</table>\n",
              "</div>"
            ],
            "text/plain": [
              "             FECHA_CONSULTA         FECHA_INICIO            FECHA_FIN  \\\n",
              "383563  2019-05-06 05:11:53  2019-05-10 19:40:00  2019-05-10 21:29:00   \n",
              "383564  2019-06-19 21:48:56  2019-08-05 20:00:00  2019-08-05 23:10:00   \n",
              "383565  2019-04-24 23:21:44  2019-04-29 16:15:00  2019-04-29 17:55:00   \n",
              "383566  2019-05-27 21:05:19  2019-07-07 15:00:00  2019-07-07 17:21:00   \n",
              "383567  2019-05-27 15:04:14  2019-06-16 18:35:00  2019-06-16 20:21:00   \n",
              "\n",
              "       CIUDAD_ORIGEN CIUDAD_DESTINO TIPO_TREN TIPO_TARIFA       CLASE  PRECIO  \n",
              "383563        MADRID       VALENCIA       AVE    Flexible     Turista   73.10  \n",
              "383564     BARCELONA         MADRID       AVE       Promo  Preferente   54.45  \n",
              "383565      VALENCIA         MADRID       AVE       Promo     Turista   27.80  \n",
              "383566        MADRID        SEVILLA       AVE       Promo     Turista   47.30  \n",
              "383567      VALENCIA         MADRID       AVE    Flexible     Turista   73.10  "
            ]
          },
          "execution_count": 3,
          "metadata": {},
          "output_type": "execute_result"
        }
      ],
      "source": [
        "renfe_df.head() #las primeras filas\n",
        "renfe_df.tail() #las últimas filas"
      ]
    },
    {
      "cell_type": "markdown",
      "metadata": {
        "id": "XIaJf-ejc3VF"
      },
      "source": [
        "## P2: ¿Cuantas filas y columnas tiene el dataset?"
      ]
    },
    {
      "cell_type": "code",
      "execution_count": null,
      "metadata": {
        "id": "Kp2x3Pe1c3VF",
        "outputId": "080a874c-b179-4427-ea44-1706150ddb76"
      },
      "outputs": [
        {
          "data": {
            "text/plain": [
              "(383568, 9)"
            ]
          },
          "execution_count": 4,
          "metadata": {},
          "output_type": "execute_result"
        }
      ],
      "source": [
        "renfe_df.shape #el dataframe tiene 383568 filas y 9 columnas"
      ]
    },
    {
      "cell_type": "markdown",
      "metadata": {
        "id": "C5oNs0FAc3VG"
      },
      "source": [
        "## P3: Cambia los nombres de todas las columnas a minúsculas"
      ]
    },
    {
      "cell_type": "code",
      "execution_count": null,
      "metadata": {
        "id": "rqhWj4hxc3VG",
        "outputId": "3b70d49b-e5b9-4177-d744-d4d6f904b928"
      },
      "outputs": [
        {
          "data": {
            "text/html": [
              "<div>\n",
              "<style scoped>\n",
              "    .dataframe tbody tr th:only-of-type {\n",
              "        vertical-align: middle;\n",
              "    }\n",
              "\n",
              "    .dataframe tbody tr th {\n",
              "        vertical-align: top;\n",
              "    }\n",
              "\n",
              "    .dataframe thead th {\n",
              "        text-align: right;\n",
              "    }\n",
              "</style>\n",
              "<table border=\"1\" class=\"dataframe\">\n",
              "  <thead>\n",
              "    <tr style=\"text-align: right;\">\n",
              "      <th></th>\n",
              "      <th>fecha_consulta</th>\n",
              "      <th>fecha_inicio</th>\n",
              "      <th>fecha_fin</th>\n",
              "      <th>ciudad_origen</th>\n",
              "      <th>ciudad_destino</th>\n",
              "      <th>tipo_tren</th>\n",
              "      <th>tipo_tarifa</th>\n",
              "      <th>clase</th>\n",
              "      <th>precio</th>\n",
              "    </tr>\n",
              "  </thead>\n",
              "  <tbody>\n",
              "    <tr>\n",
              "      <th>0</th>\n",
              "      <td>2019-05-25 01:43:03</td>\n",
              "      <td>2019-06-28 20:36:00</td>\n",
              "      <td>2019-06-28 23:14:00</td>\n",
              "      <td>SEVILLA</td>\n",
              "      <td>MADRID</td>\n",
              "      <td>ALVIA</td>\n",
              "      <td>Flexible</td>\n",
              "      <td>Turista</td>\n",
              "      <td>67.20</td>\n",
              "    </tr>\n",
              "    <tr>\n",
              "      <th>1</th>\n",
              "      <td>2019-06-22 13:05:11</td>\n",
              "      <td>2019-07-14 10:00:00</td>\n",
              "      <td>2019-07-14 13:10:00</td>\n",
              "      <td>BARCELONA</td>\n",
              "      <td>MADRID</td>\n",
              "      <td>AVE</td>\n",
              "      <td>Flexible</td>\n",
              "      <td>Turista</td>\n",
              "      <td>107.70</td>\n",
              "    </tr>\n",
              "    <tr>\n",
              "      <th>2</th>\n",
              "      <td>2019-04-17 06:24:03</td>\n",
              "      <td>2019-05-23 13:40:00</td>\n",
              "      <td>2019-05-23 16:10:00</td>\n",
              "      <td>SEVILLA</td>\n",
              "      <td>MADRID</td>\n",
              "      <td>AVE</td>\n",
              "      <td>Promo</td>\n",
              "      <td>Turista</td>\n",
              "      <td>47.30</td>\n",
              "    </tr>\n",
              "    <tr>\n",
              "      <th>3</th>\n",
              "      <td>2019-05-10 21:21:59</td>\n",
              "      <td>2019-05-29 14:50:00</td>\n",
              "      <td>2019-05-29 22:30:00</td>\n",
              "      <td>VALENCIA</td>\n",
              "      <td>MADRID</td>\n",
              "      <td>REGIONAL</td>\n",
              "      <td>Adulto ida</td>\n",
              "      <td>Turista</td>\n",
              "      <td>28.35</td>\n",
              "    </tr>\n",
              "    <tr>\n",
              "      <th>4</th>\n",
              "      <td>2019-05-09 19:43:37</td>\n",
              "      <td>2019-06-26 13:25:00</td>\n",
              "      <td>2019-06-26 16:24:00</td>\n",
              "      <td>MADRID</td>\n",
              "      <td>BARCELONA</td>\n",
              "      <td>AVE-TGV</td>\n",
              "      <td>Promo</td>\n",
              "      <td>Turista</td>\n",
              "      <td>66.75</td>\n",
              "    </tr>\n",
              "  </tbody>\n",
              "</table>\n",
              "</div>"
            ],
            "text/plain": [
              "        fecha_consulta         fecha_inicio            fecha_fin  \\\n",
              "0  2019-05-25 01:43:03  2019-06-28 20:36:00  2019-06-28 23:14:00   \n",
              "1  2019-06-22 13:05:11  2019-07-14 10:00:00  2019-07-14 13:10:00   \n",
              "2  2019-04-17 06:24:03  2019-05-23 13:40:00  2019-05-23 16:10:00   \n",
              "3  2019-05-10 21:21:59  2019-05-29 14:50:00  2019-05-29 22:30:00   \n",
              "4  2019-05-09 19:43:37  2019-06-26 13:25:00  2019-06-26 16:24:00   \n",
              "\n",
              "  ciudad_origen ciudad_destino tipo_tren tipo_tarifa    clase  precio  \n",
              "0       SEVILLA         MADRID     ALVIA    Flexible  Turista   67.20  \n",
              "1     BARCELONA         MADRID       AVE    Flexible  Turista  107.70  \n",
              "2       SEVILLA         MADRID       AVE       Promo  Turista   47.30  \n",
              "3      VALENCIA         MADRID  REGIONAL  Adulto ida  Turista   28.35  \n",
              "4        MADRID      BARCELONA   AVE-TGV       Promo  Turista   66.75  "
            ]
          },
          "execution_count": 5,
          "metadata": {},
          "output_type": "execute_result"
        }
      ],
      "source": [
        "renfe_df.columns = renfe_df.columns.str.lower() #cambia los nombres de las columnas para minusculas\n",
        "renfe_df.head()"
      ]
    },
    {
      "cell_type": "markdown",
      "metadata": {
        "id": "NIGBD92lc3VG"
      },
      "source": [
        "## P4: Muestra los tipos de datos de cada columna"
      ]
    },
    {
      "cell_type": "code",
      "execution_count": null,
      "metadata": {
        "id": "qlK6Cym6c3VH",
        "outputId": "ff09cd99-4df6-468b-ed9b-f91a9d4bb2b0"
      },
      "outputs": [
        {
          "name": "stdout",
          "output_type": "stream",
          "text": [
            "<class 'pandas.core.frame.DataFrame'>\n",
            "RangeIndex: 383568 entries, 0 to 383567\n",
            "Data columns (total 9 columns):\n",
            " #   Column          Non-Null Count   Dtype  \n",
            "---  ------          --------------   -----  \n",
            " 0   fecha_consulta  383568 non-null  object \n",
            " 1   fecha_inicio    383568 non-null  object \n",
            " 2   fecha_fin       383568 non-null  object \n",
            " 3   ciudad_origen   383568 non-null  object \n",
            " 4   ciudad_destino  383568 non-null  object \n",
            " 5   tipo_tren       383568 non-null  object \n",
            " 6   tipo_tarifa     382225 non-null  object \n",
            " 7   clase           382225 non-null  object \n",
            " 8   precio          355038 non-null  float64\n",
            "dtypes: float64(1), object(8)\n",
            "memory usage: 26.3+ MB\n"
          ]
        }
      ],
      "source": [
        "renfe_df.info() #muestra que todas las columnas tienen el tipo de dato object, excepto la columna de precio que tinen datos tipo float"
      ]
    },
    {
      "cell_type": "markdown",
      "metadata": {
        "id": "bd-ZNgfYc3VH"
      },
      "source": [
        "## P5: Cambia los tipos de datos que creas que creas incorrectos, por los tipos adecuados"
      ]
    },
    {
      "cell_type": "code",
      "execution_count": null,
      "metadata": {
        "id": "zfbB2Eq1c3VH",
        "outputId": "492038ba-50a7-4455-e635-bba79fc457d1"
      },
      "outputs": [
        {
          "name": "stdout",
          "output_type": "stream",
          "text": [
            "<class 'pandas.core.frame.DataFrame'>\n",
            "RangeIndex: 383568 entries, 0 to 383567\n",
            "Data columns (total 9 columns):\n",
            " #   Column          Non-Null Count   Dtype         \n",
            "---  ------          --------------   -----         \n",
            " 0   fecha_consulta  383568 non-null  datetime64[ns]\n",
            " 1   fecha_inicio    383568 non-null  datetime64[ns]\n",
            " 2   fecha_fin       383568 non-null  datetime64[ns]\n",
            " 3   ciudad_origen   383568 non-null  string        \n",
            " 4   ciudad_destino  383568 non-null  string        \n",
            " 5   tipo_tren       383568 non-null  string        \n",
            " 6   tipo_tarifa     382225 non-null  string        \n",
            " 7   clase           382225 non-null  string        \n",
            " 8   precio          355038 non-null  float64       \n",
            "dtypes: datetime64[ns](3), float64(1), string(5)\n",
            "memory usage: 26.3 MB\n"
          ]
        }
      ],
      "source": [
        "renfe_df['fecha_consulta'] = pd.to_datetime(renfe_df['fecha_consulta'])#converte las fechas en tipo de datos datetime\n",
        "renfe_df['fecha_inicio'] = pd.to_datetime(renfe_df['fecha_inicio']) \n",
        "renfe_df['fecha_fin'] = pd.to_datetime(renfe_df['fecha_fin'])\n",
        "#renfe_df['ciudad_origen'] = renfe_df['ciudad_origen'].astype('string')\n",
        "renfe_df[['ciudad_origen','ciudad_destino','tipo_tren', 'tipo_tarifa','clase']] = renfe_df[['ciudad_origen','ciudad_destino','tipo_tren', 'tipo_tarifa','clase']].astype('string')\n",
        "#converti todas demas colunas en sritring\n",
        "renfe_df.info() #info al final para comprobar los cambios"
      ]
    },
    {
      "cell_type": "markdown",
      "metadata": {
        "id": "vWuNYSR7c3VI"
      },
      "source": [
        "## P6: Filas duplicadas"
      ]
    },
    {
      "cell_type": "code",
      "execution_count": null,
      "metadata": {
        "id": "0jo_eQb7c3VI",
        "outputId": "35357943-f663-45a4-a99d-9d577dd34f48"
      },
      "outputs": [
        {
          "data": {
            "text/html": [
              "<div>\n",
              "<style scoped>\n",
              "    .dataframe tbody tr th:only-of-type {\n",
              "        vertical-align: middle;\n",
              "    }\n",
              "\n",
              "    .dataframe tbody tr th {\n",
              "        vertical-align: top;\n",
              "    }\n",
              "\n",
              "    .dataframe thead th {\n",
              "        text-align: right;\n",
              "    }\n",
              "</style>\n",
              "<table border=\"1\" class=\"dataframe\">\n",
              "  <thead>\n",
              "    <tr style=\"text-align: right;\">\n",
              "      <th></th>\n",
              "      <th>fecha_consulta</th>\n",
              "      <th>fecha_inicio</th>\n",
              "      <th>fecha_fin</th>\n",
              "      <th>ciudad_origen</th>\n",
              "      <th>ciudad_destino</th>\n",
              "      <th>tipo_tren</th>\n",
              "      <th>tipo_tarifa</th>\n",
              "      <th>clase</th>\n",
              "      <th>precio</th>\n",
              "    </tr>\n",
              "  </thead>\n",
              "  <tbody>\n",
              "    <tr>\n",
              "      <th>67494</th>\n",
              "      <td>2019-04-29 23:15:13</td>\n",
              "      <td>2019-05-14 06:20:00</td>\n",
              "      <td>2019-05-14 14:25:00</td>\n",
              "      <td>MADRID</td>\n",
              "      <td>BARCELONA</td>\n",
              "      <td>LD-AVE</td>\n",
              "      <td>Promo</td>\n",
              "      <td>Turista</td>\n",
              "      <td>NaN</td>\n",
              "    </tr>\n",
              "    <tr>\n",
              "      <th>72194</th>\n",
              "      <td>2019-05-13 05:35:59</td>\n",
              "      <td>2019-05-26 17:30:00</td>\n",
              "      <td>2019-05-26 19:43:00</td>\n",
              "      <td>VALENCIA</td>\n",
              "      <td>MADRID</td>\n",
              "      <td>INTERCITY</td>\n",
              "      <td>Flexible</td>\n",
              "      <td>Turista</td>\n",
              "      <td>55.40</td>\n",
              "    </tr>\n",
              "    <tr>\n",
              "      <th>82429</th>\n",
              "      <td>2019-04-30 09:09:51</td>\n",
              "      <td>2019-05-19 17:30:00</td>\n",
              "      <td>2019-05-19 19:43:00</td>\n",
              "      <td>VALENCIA</td>\n",
              "      <td>MADRID</td>\n",
              "      <td>INTERCITY</td>\n",
              "      <td>Flexible</td>\n",
              "      <td>Turista</td>\n",
              "      <td>55.40</td>\n",
              "    </tr>\n",
              "    <tr>\n",
              "      <th>88401</th>\n",
              "      <td>2019-05-15 23:37:01</td>\n",
              "      <td>2019-06-21 21:05:00</td>\n",
              "      <td>2019-06-21 23:32:00</td>\n",
              "      <td>VALENCIA</td>\n",
              "      <td>MADRID</td>\n",
              "      <td>INTERCITY</td>\n",
              "      <td>&lt;NA&gt;</td>\n",
              "      <td>&lt;NA&gt;</td>\n",
              "      <td>NaN</td>\n",
              "    </tr>\n",
              "    <tr>\n",
              "      <th>106308</th>\n",
              "      <td>2019-08-15 19:26:51</td>\n",
              "      <td>2019-08-23 21:03:00</td>\n",
              "      <td>2019-08-23 23:28:00</td>\n",
              "      <td>VALENCIA</td>\n",
              "      <td>MADRID</td>\n",
              "      <td>INTERCITY</td>\n",
              "      <td>Flexible</td>\n",
              "      <td>Turista</td>\n",
              "      <td>55.40</td>\n",
              "    </tr>\n",
              "    <tr>\n",
              "      <th>107458</th>\n",
              "      <td>2019-06-12 11:51:44</td>\n",
              "      <td>2019-06-16 17:30:00</td>\n",
              "      <td>2019-06-16 19:43:00</td>\n",
              "      <td>VALENCIA</td>\n",
              "      <td>MADRID</td>\n",
              "      <td>INTERCITY</td>\n",
              "      <td>Flexible</td>\n",
              "      <td>TuristaSólo plaza H</td>\n",
              "      <td>55.40</td>\n",
              "    </tr>\n",
              "    <tr>\n",
              "      <th>143395</th>\n",
              "      <td>2019-08-17 03:22:19</td>\n",
              "      <td>2019-09-01 21:03:00</td>\n",
              "      <td>2019-09-01 23:28:00</td>\n",
              "      <td>VALENCIA</td>\n",
              "      <td>MADRID</td>\n",
              "      <td>INTERCITY</td>\n",
              "      <td>Flexible</td>\n",
              "      <td>Turista</td>\n",
              "      <td>NaN</td>\n",
              "    </tr>\n",
              "    <tr>\n",
              "      <th>159167</th>\n",
              "      <td>2019-05-16 13:12:07</td>\n",
              "      <td>2019-06-29 21:05:00</td>\n",
              "      <td>2019-06-29 23:32:00</td>\n",
              "      <td>VALENCIA</td>\n",
              "      <td>MADRID</td>\n",
              "      <td>INTERCITY</td>\n",
              "      <td>&lt;NA&gt;</td>\n",
              "      <td>&lt;NA&gt;</td>\n",
              "      <td>NaN</td>\n",
              "    </tr>\n",
              "    <tr>\n",
              "      <th>163046</th>\n",
              "      <td>2019-06-12 05:22:45</td>\n",
              "      <td>2019-07-25 21:03:00</td>\n",
              "      <td>2019-07-25 23:28:00</td>\n",
              "      <td>VALENCIA</td>\n",
              "      <td>MADRID</td>\n",
              "      <td>INTERCITY</td>\n",
              "      <td>Promo</td>\n",
              "      <td>Turista</td>\n",
              "      <td>25.50</td>\n",
              "    </tr>\n",
              "    <tr>\n",
              "      <th>170659</th>\n",
              "      <td>2019-05-15 21:26:30</td>\n",
              "      <td>2019-06-23 21:05:00</td>\n",
              "      <td>2019-06-23 23:32:00</td>\n",
              "      <td>VALENCIA</td>\n",
              "      <td>MADRID</td>\n",
              "      <td>INTERCITY</td>\n",
              "      <td>&lt;NA&gt;</td>\n",
              "      <td>&lt;NA&gt;</td>\n",
              "      <td>NaN</td>\n",
              "    </tr>\n",
              "    <tr>\n",
              "      <th>191339</th>\n",
              "      <td>2019-08-18 17:34:03</td>\n",
              "      <td>2019-08-23 21:03:00</td>\n",
              "      <td>2019-08-23 23:28:00</td>\n",
              "      <td>VALENCIA</td>\n",
              "      <td>MADRID</td>\n",
              "      <td>INTERCITY</td>\n",
              "      <td>Flexible</td>\n",
              "      <td>Turista</td>\n",
              "      <td>55.40</td>\n",
              "    </tr>\n",
              "    <tr>\n",
              "      <th>235466</th>\n",
              "      <td>2019-06-18 23:16:29</td>\n",
              "      <td>2019-07-23 07:00:00</td>\n",
              "      <td>2019-07-23 14:25:00</td>\n",
              "      <td>MADRID</td>\n",
              "      <td>BARCELONA</td>\n",
              "      <td>LD-AVE</td>\n",
              "      <td>Promo</td>\n",
              "      <td>Turista Plus</td>\n",
              "      <td>NaN</td>\n",
              "    </tr>\n",
              "    <tr>\n",
              "      <th>240379</th>\n",
              "      <td>2019-05-29 19:15:51</td>\n",
              "      <td>2019-06-09 17:30:00</td>\n",
              "      <td>2019-06-09 19:43:00</td>\n",
              "      <td>VALENCIA</td>\n",
              "      <td>MADRID</td>\n",
              "      <td>INTERCITY</td>\n",
              "      <td>Flexible</td>\n",
              "      <td>Turista</td>\n",
              "      <td>NaN</td>\n",
              "    </tr>\n",
              "    <tr>\n",
              "      <th>241656</th>\n",
              "      <td>2019-05-14 03:01:42</td>\n",
              "      <td>2019-07-07 21:05:00</td>\n",
              "      <td>2019-07-07 23:32:00</td>\n",
              "      <td>VALENCIA</td>\n",
              "      <td>MADRID</td>\n",
              "      <td>INTERCITY</td>\n",
              "      <td>Promo</td>\n",
              "      <td>Turista</td>\n",
              "      <td>NaN</td>\n",
              "    </tr>\n",
              "    <tr>\n",
              "      <th>242549</th>\n",
              "      <td>2019-08-14 23:43:07</td>\n",
              "      <td>2019-09-01 11:28:00</td>\n",
              "      <td>2019-09-01 16:00:00</td>\n",
              "      <td>PONFERRADA</td>\n",
              "      <td>MADRID</td>\n",
              "      <td>LD</td>\n",
              "      <td>Flexible</td>\n",
              "      <td>Turista con enlace</td>\n",
              "      <td>NaN</td>\n",
              "    </tr>\n",
              "    <tr>\n",
              "      <th>245026</th>\n",
              "      <td>2019-05-13 03:23:34</td>\n",
              "      <td>2019-07-01 21:05:00</td>\n",
              "      <td>2019-07-01 23:32:00</td>\n",
              "      <td>VALENCIA</td>\n",
              "      <td>MADRID</td>\n",
              "      <td>INTERCITY</td>\n",
              "      <td>&lt;NA&gt;</td>\n",
              "      <td>&lt;NA&gt;</td>\n",
              "      <td>NaN</td>\n",
              "    </tr>\n",
              "    <tr>\n",
              "      <th>246983</th>\n",
              "      <td>2019-04-17 13:43:20</td>\n",
              "      <td>2019-05-31 15:10:00</td>\n",
              "      <td>2019-05-31 17:20:00</td>\n",
              "      <td>MADRID</td>\n",
              "      <td>VALENCIA</td>\n",
              "      <td>INTERCITY</td>\n",
              "      <td>Promo</td>\n",
              "      <td>Turista</td>\n",
              "      <td>38.80</td>\n",
              "    </tr>\n",
              "    <tr>\n",
              "      <th>256887</th>\n",
              "      <td>2019-06-10 01:10:54</td>\n",
              "      <td>2019-07-07 21:03:00</td>\n",
              "      <td>2019-07-07 23:28:00</td>\n",
              "      <td>VALENCIA</td>\n",
              "      <td>MADRID</td>\n",
              "      <td>INTERCITY</td>\n",
              "      <td>Promo</td>\n",
              "      <td>Turista</td>\n",
              "      <td>43.75</td>\n",
              "    </tr>\n",
              "    <tr>\n",
              "      <th>263942</th>\n",
              "      <td>2019-04-21 08:08:16</td>\n",
              "      <td>2019-04-28 17:30:00</td>\n",
              "      <td>2019-04-28 19:43:00</td>\n",
              "      <td>VALENCIA</td>\n",
              "      <td>MADRID</td>\n",
              "      <td>INTERCITY</td>\n",
              "      <td>Flexible</td>\n",
              "      <td>Turista</td>\n",
              "      <td>55.40</td>\n",
              "    </tr>\n",
              "    <tr>\n",
              "      <th>274827</th>\n",
              "      <td>2019-06-17 21:00:29</td>\n",
              "      <td>2019-06-23 21:03:00</td>\n",
              "      <td>2019-06-23 23:28:00</td>\n",
              "      <td>VALENCIA</td>\n",
              "      <td>MADRID</td>\n",
              "      <td>INTERCITY</td>\n",
              "      <td>Flexible</td>\n",
              "      <td>TuristaSólo plaza H</td>\n",
              "      <td>55.40</td>\n",
              "    </tr>\n",
              "    <tr>\n",
              "      <th>279458</th>\n",
              "      <td>2019-04-27 17:08:49</td>\n",
              "      <td>2019-05-26 17:30:00</td>\n",
              "      <td>2019-05-26 19:43:00</td>\n",
              "      <td>VALENCIA</td>\n",
              "      <td>MADRID</td>\n",
              "      <td>INTERCITY</td>\n",
              "      <td>Promo</td>\n",
              "      <td>Turista</td>\n",
              "      <td>43.75</td>\n",
              "    </tr>\n",
              "    <tr>\n",
              "      <th>299543</th>\n",
              "      <td>2019-06-19 03:21:48</td>\n",
              "      <td>2019-08-01 21:03:00</td>\n",
              "      <td>2019-08-01 23:28:00</td>\n",
              "      <td>VALENCIA</td>\n",
              "      <td>MADRID</td>\n",
              "      <td>INTERCITY</td>\n",
              "      <td>Promo</td>\n",
              "      <td>Turista</td>\n",
              "      <td>16.60</td>\n",
              "    </tr>\n",
              "    <tr>\n",
              "      <th>307296</th>\n",
              "      <td>2019-06-19 23:28:29</td>\n",
              "      <td>2019-06-23 21:03:00</td>\n",
              "      <td>2019-06-23 23:28:00</td>\n",
              "      <td>VALENCIA</td>\n",
              "      <td>MADRID</td>\n",
              "      <td>INTERCITY</td>\n",
              "      <td>Flexible</td>\n",
              "      <td>TuristaSólo plaza H</td>\n",
              "      <td>55.40</td>\n",
              "    </tr>\n",
              "    <tr>\n",
              "      <th>314852</th>\n",
              "      <td>2019-04-17 23:04:44</td>\n",
              "      <td>2019-05-12 17:30:00</td>\n",
              "      <td>2019-05-12 19:43:00</td>\n",
              "      <td>VALENCIA</td>\n",
              "      <td>MADRID</td>\n",
              "      <td>INTERCITY</td>\n",
              "      <td>Promo</td>\n",
              "      <td>Turista</td>\n",
              "      <td>43.75</td>\n",
              "    </tr>\n",
              "    <tr>\n",
              "      <th>316991</th>\n",
              "      <td>2019-04-30 01:05:31</td>\n",
              "      <td>2019-05-11 07:00:00</td>\n",
              "      <td>2019-05-11 14:25:00</td>\n",
              "      <td>MADRID</td>\n",
              "      <td>BARCELONA</td>\n",
              "      <td>LD-AVE</td>\n",
              "      <td>Promo</td>\n",
              "      <td>Turista</td>\n",
              "      <td>NaN</td>\n",
              "    </tr>\n",
              "    <tr>\n",
              "      <th>328693</th>\n",
              "      <td>2019-04-19 09:10:48</td>\n",
              "      <td>2019-04-21 17:30:00</td>\n",
              "      <td>2019-04-21 19:43:00</td>\n",
              "      <td>VALENCIA</td>\n",
              "      <td>MADRID</td>\n",
              "      <td>INTERCITY</td>\n",
              "      <td>Flexible</td>\n",
              "      <td>Turista</td>\n",
              "      <td>NaN</td>\n",
              "    </tr>\n",
              "    <tr>\n",
              "      <th>346701</th>\n",
              "      <td>2019-04-29 23:03:20</td>\n",
              "      <td>2019-05-03 15:50:00</td>\n",
              "      <td>2019-05-03 23:52:00</td>\n",
              "      <td>BARCELONA</td>\n",
              "      <td>MADRID</td>\n",
              "      <td>AVE-LD</td>\n",
              "      <td>Flexible</td>\n",
              "      <td>Turista</td>\n",
              "      <td>NaN</td>\n",
              "    </tr>\n",
              "    <tr>\n",
              "      <th>352451</th>\n",
              "      <td>2019-05-03 05:33:32</td>\n",
              "      <td>2019-05-24 15:10:00</td>\n",
              "      <td>2019-05-24 17:20:00</td>\n",
              "      <td>MADRID</td>\n",
              "      <td>VALENCIA</td>\n",
              "      <td>INTERCITY</td>\n",
              "      <td>Promo</td>\n",
              "      <td>Turista</td>\n",
              "      <td>43.75</td>\n",
              "    </tr>\n",
              "    <tr>\n",
              "      <th>356200</th>\n",
              "      <td>2019-05-03 15:18:26</td>\n",
              "      <td>2019-05-24 15:10:00</td>\n",
              "      <td>2019-05-24 17:20:00</td>\n",
              "      <td>MADRID</td>\n",
              "      <td>VALENCIA</td>\n",
              "      <td>INTERCITY</td>\n",
              "      <td>Promo</td>\n",
              "      <td>Turista</td>\n",
              "      <td>43.75</td>\n",
              "    </tr>\n",
              "    <tr>\n",
              "      <th>362709</th>\n",
              "      <td>2019-06-22 07:11:59</td>\n",
              "      <td>2019-07-03 21:03:00</td>\n",
              "      <td>2019-07-03 23:28:00</td>\n",
              "      <td>VALENCIA</td>\n",
              "      <td>MADRID</td>\n",
              "      <td>INTERCITY</td>\n",
              "      <td>Promo</td>\n",
              "      <td>Turista</td>\n",
              "      <td>29.90</td>\n",
              "    </tr>\n",
              "    <tr>\n",
              "      <th>372763</th>\n",
              "      <td>2019-08-16 05:36:33</td>\n",
              "      <td>2019-08-16 21:03:00</td>\n",
              "      <td>2019-08-16 23:28:00</td>\n",
              "      <td>VALENCIA</td>\n",
              "      <td>MADRID</td>\n",
              "      <td>INTERCITY</td>\n",
              "      <td>Flexible</td>\n",
              "      <td>Turista</td>\n",
              "      <td>55.40</td>\n",
              "    </tr>\n",
              "    <tr>\n",
              "      <th>376617</th>\n",
              "      <td>2019-05-17 15:22:08</td>\n",
              "      <td>2019-07-11 21:03:00</td>\n",
              "      <td>2019-07-11 23:28:00</td>\n",
              "      <td>VALENCIA</td>\n",
              "      <td>MADRID</td>\n",
              "      <td>INTERCITY</td>\n",
              "      <td>&lt;NA&gt;</td>\n",
              "      <td>&lt;NA&gt;</td>\n",
              "      <td>NaN</td>\n",
              "    </tr>\n",
              "    <tr>\n",
              "      <th>383408</th>\n",
              "      <td>2019-04-27 17:26:36</td>\n",
              "      <td>2019-04-30 15:10:00</td>\n",
              "      <td>2019-04-30 17:20:00</td>\n",
              "      <td>MADRID</td>\n",
              "      <td>VALENCIA</td>\n",
              "      <td>INTERCITY</td>\n",
              "      <td>Flexible</td>\n",
              "      <td>Turista</td>\n",
              "      <td>NaN</td>\n",
              "    </tr>\n",
              "  </tbody>\n",
              "</table>\n",
              "</div>"
            ],
            "text/plain": [
              "            fecha_consulta        fecha_inicio           fecha_fin  \\\n",
              "67494  2019-04-29 23:15:13 2019-05-14 06:20:00 2019-05-14 14:25:00   \n",
              "72194  2019-05-13 05:35:59 2019-05-26 17:30:00 2019-05-26 19:43:00   \n",
              "82429  2019-04-30 09:09:51 2019-05-19 17:30:00 2019-05-19 19:43:00   \n",
              "88401  2019-05-15 23:37:01 2019-06-21 21:05:00 2019-06-21 23:32:00   \n",
              "106308 2019-08-15 19:26:51 2019-08-23 21:03:00 2019-08-23 23:28:00   \n",
              "107458 2019-06-12 11:51:44 2019-06-16 17:30:00 2019-06-16 19:43:00   \n",
              "143395 2019-08-17 03:22:19 2019-09-01 21:03:00 2019-09-01 23:28:00   \n",
              "159167 2019-05-16 13:12:07 2019-06-29 21:05:00 2019-06-29 23:32:00   \n",
              "163046 2019-06-12 05:22:45 2019-07-25 21:03:00 2019-07-25 23:28:00   \n",
              "170659 2019-05-15 21:26:30 2019-06-23 21:05:00 2019-06-23 23:32:00   \n",
              "191339 2019-08-18 17:34:03 2019-08-23 21:03:00 2019-08-23 23:28:00   \n",
              "235466 2019-06-18 23:16:29 2019-07-23 07:00:00 2019-07-23 14:25:00   \n",
              "240379 2019-05-29 19:15:51 2019-06-09 17:30:00 2019-06-09 19:43:00   \n",
              "241656 2019-05-14 03:01:42 2019-07-07 21:05:00 2019-07-07 23:32:00   \n",
              "242549 2019-08-14 23:43:07 2019-09-01 11:28:00 2019-09-01 16:00:00   \n",
              "245026 2019-05-13 03:23:34 2019-07-01 21:05:00 2019-07-01 23:32:00   \n",
              "246983 2019-04-17 13:43:20 2019-05-31 15:10:00 2019-05-31 17:20:00   \n",
              "256887 2019-06-10 01:10:54 2019-07-07 21:03:00 2019-07-07 23:28:00   \n",
              "263942 2019-04-21 08:08:16 2019-04-28 17:30:00 2019-04-28 19:43:00   \n",
              "274827 2019-06-17 21:00:29 2019-06-23 21:03:00 2019-06-23 23:28:00   \n",
              "279458 2019-04-27 17:08:49 2019-05-26 17:30:00 2019-05-26 19:43:00   \n",
              "299543 2019-06-19 03:21:48 2019-08-01 21:03:00 2019-08-01 23:28:00   \n",
              "307296 2019-06-19 23:28:29 2019-06-23 21:03:00 2019-06-23 23:28:00   \n",
              "314852 2019-04-17 23:04:44 2019-05-12 17:30:00 2019-05-12 19:43:00   \n",
              "316991 2019-04-30 01:05:31 2019-05-11 07:00:00 2019-05-11 14:25:00   \n",
              "328693 2019-04-19 09:10:48 2019-04-21 17:30:00 2019-04-21 19:43:00   \n",
              "346701 2019-04-29 23:03:20 2019-05-03 15:50:00 2019-05-03 23:52:00   \n",
              "352451 2019-05-03 05:33:32 2019-05-24 15:10:00 2019-05-24 17:20:00   \n",
              "356200 2019-05-03 15:18:26 2019-05-24 15:10:00 2019-05-24 17:20:00   \n",
              "362709 2019-06-22 07:11:59 2019-07-03 21:03:00 2019-07-03 23:28:00   \n",
              "372763 2019-08-16 05:36:33 2019-08-16 21:03:00 2019-08-16 23:28:00   \n",
              "376617 2019-05-17 15:22:08 2019-07-11 21:03:00 2019-07-11 23:28:00   \n",
              "383408 2019-04-27 17:26:36 2019-04-30 15:10:00 2019-04-30 17:20:00   \n",
              "\n",
              "       ciudad_origen ciudad_destino  tipo_tren tipo_tarifa  \\\n",
              "67494         MADRID      BARCELONA     LD-AVE       Promo   \n",
              "72194       VALENCIA         MADRID  INTERCITY    Flexible   \n",
              "82429       VALENCIA         MADRID  INTERCITY    Flexible   \n",
              "88401       VALENCIA         MADRID  INTERCITY        <NA>   \n",
              "106308      VALENCIA         MADRID  INTERCITY    Flexible   \n",
              "107458      VALENCIA         MADRID  INTERCITY    Flexible   \n",
              "143395      VALENCIA         MADRID  INTERCITY    Flexible   \n",
              "159167      VALENCIA         MADRID  INTERCITY        <NA>   \n",
              "163046      VALENCIA         MADRID  INTERCITY       Promo   \n",
              "170659      VALENCIA         MADRID  INTERCITY        <NA>   \n",
              "191339      VALENCIA         MADRID  INTERCITY    Flexible   \n",
              "235466        MADRID      BARCELONA     LD-AVE       Promo   \n",
              "240379      VALENCIA         MADRID  INTERCITY    Flexible   \n",
              "241656      VALENCIA         MADRID  INTERCITY       Promo   \n",
              "242549    PONFERRADA         MADRID         LD    Flexible   \n",
              "245026      VALENCIA         MADRID  INTERCITY        <NA>   \n",
              "246983        MADRID       VALENCIA  INTERCITY       Promo   \n",
              "256887      VALENCIA         MADRID  INTERCITY       Promo   \n",
              "263942      VALENCIA         MADRID  INTERCITY    Flexible   \n",
              "274827      VALENCIA         MADRID  INTERCITY    Flexible   \n",
              "279458      VALENCIA         MADRID  INTERCITY       Promo   \n",
              "299543      VALENCIA         MADRID  INTERCITY       Promo   \n",
              "307296      VALENCIA         MADRID  INTERCITY    Flexible   \n",
              "314852      VALENCIA         MADRID  INTERCITY       Promo   \n",
              "316991        MADRID      BARCELONA     LD-AVE       Promo   \n",
              "328693      VALENCIA         MADRID  INTERCITY    Flexible   \n",
              "346701     BARCELONA         MADRID     AVE-LD    Flexible   \n",
              "352451        MADRID       VALENCIA  INTERCITY       Promo   \n",
              "356200        MADRID       VALENCIA  INTERCITY       Promo   \n",
              "362709      VALENCIA         MADRID  INTERCITY       Promo   \n",
              "372763      VALENCIA         MADRID  INTERCITY    Flexible   \n",
              "376617      VALENCIA         MADRID  INTERCITY        <NA>   \n",
              "383408        MADRID       VALENCIA  INTERCITY    Flexible   \n",
              "\n",
              "                      clase  precio  \n",
              "67494               Turista     NaN  \n",
              "72194               Turista   55.40  \n",
              "82429               Turista   55.40  \n",
              "88401                  <NA>     NaN  \n",
              "106308              Turista   55.40  \n",
              "107458  TuristaSólo plaza H   55.40  \n",
              "143395              Turista     NaN  \n",
              "159167                 <NA>     NaN  \n",
              "163046              Turista   25.50  \n",
              "170659                 <NA>     NaN  \n",
              "191339              Turista   55.40  \n",
              "235466         Turista Plus     NaN  \n",
              "240379              Turista     NaN  \n",
              "241656              Turista     NaN  \n",
              "242549   Turista con enlace     NaN  \n",
              "245026                 <NA>     NaN  \n",
              "246983              Turista   38.80  \n",
              "256887              Turista   43.75  \n",
              "263942              Turista   55.40  \n",
              "274827  TuristaSólo plaza H   55.40  \n",
              "279458              Turista   43.75  \n",
              "299543              Turista   16.60  \n",
              "307296  TuristaSólo plaza H   55.40  \n",
              "314852              Turista   43.75  \n",
              "316991              Turista     NaN  \n",
              "328693              Turista     NaN  \n",
              "346701              Turista     NaN  \n",
              "352451              Turista   43.75  \n",
              "356200              Turista   43.75  \n",
              "362709              Turista   29.90  \n",
              "372763              Turista   55.40  \n",
              "376617                 <NA>     NaN  \n",
              "383408              Turista     NaN  "
            ]
          },
          "execution_count": 8,
          "metadata": {},
          "output_type": "execute_result"
        }
      ],
      "source": [
        "renfe_df[renfe_df.duplicated()] #mostra todas las filas duplicadas"
      ]
    },
    {
      "cell_type": "markdown",
      "metadata": {
        "id": "c4h_sCAgc3VI"
      },
      "source": [
        "### P6.1: ¿Cuántas filas duplicadas tiene el dataset?"
      ]
    },
    {
      "cell_type": "code",
      "execution_count": null,
      "metadata": {
        "id": "yBbj7T_Bc3VI",
        "outputId": "b163dac4-483e-485e-b296-7c07542495fb"
      },
      "outputs": [
        {
          "data": {
            "text/plain": [
              "(33, 9)"
            ]
          },
          "execution_count": 9,
          "metadata": {},
          "output_type": "execute_result"
        }
      ],
      "source": [
        "renfe_df[renfe_df.duplicated()].shape #el dataset tiene 33 filas duplicadas"
      ]
    },
    {
      "cell_type": "markdown",
      "metadata": {
        "id": "0wwuC-bIc3VJ"
      },
      "source": [
        "### P6.2: Quita las filas duplicadas"
      ]
    },
    {
      "cell_type": "code",
      "execution_count": null,
      "metadata": {
        "id": "UxOju63Kc3VJ",
        "outputId": "4836215e-49d9-421b-f188-27cc21238008"
      },
      "outputs": [
        {
          "data": {
            "text/plain": [
              "(383535, 9)"
            ]
          },
          "execution_count": 10,
          "metadata": {},
          "output_type": "execute_result"
        }
      ],
      "source": [
        "renfe_df= renfe_df.drop_duplicates() #este metodo elimina las filas duplicadas\n",
        "renfe_df.shape #ahora el dataset tiene 383535 filas, demostrando que las 33 filas duplicadas fueron quitadas"
      ]
    },
    {
      "cell_type": "markdown",
      "metadata": {
        "id": "iELARzkJc3VJ"
      },
      "source": [
        "## P7: Valores nulos y análisis de `precio`"
      ]
    },
    {
      "cell_type": "markdown",
      "metadata": {
        "id": "LJPmQJ6Oc3VJ"
      },
      "source": [
        "### P7.1: ¿Que porcentaje de valores nulos hay por cada columna?"
      ]
    },
    {
      "cell_type": "code",
      "execution_count": null,
      "metadata": {
        "id": "0kJeodTkc3VJ",
        "outputId": "8506482f-a9ea-4dec-be6d-7c6d2b01014a"
      },
      "outputs": [
        {
          "data": {
            "text/plain": [
              "fecha_consulta        0\n",
              "fecha_inicio          0\n",
              "fecha_fin             0\n",
              "ciudad_origen         0\n",
              "ciudad_destino        0\n",
              "tipo_tren             0\n",
              "tipo_tarifa        1338\n",
              "clase              1338\n",
              "precio            28515\n",
              "dtype: int64"
            ]
          },
          "execution_count": 11,
          "metadata": {},
          "output_type": "execute_result"
        }
      ],
      "source": [
        "renfe_df.isnull().sum() #mostra la soma de valores nulos en cada columna, vemos que solamente las columnas: tipo_tarifa, clase y precio tienen valores nulos"
      ]
    },
    {
      "cell_type": "markdown",
      "metadata": {
        "id": "O-9Q9imfc3VK"
      },
      "source": [
        "### P7.2: ¿Cual es el mínimo, percentiles importantes (25%, 50%, 75%) y el máximo de `precio`?"
      ]
    },
    {
      "cell_type": "code",
      "execution_count": null,
      "metadata": {
        "id": "klGqTW7Ic3VK",
        "outputId": "a3b068b4-1989-4aae-ee49-cb180d252b20"
      },
      "outputs": [
        {
          "data": {
            "text/plain": [
              "count    355020.000000\n",
              "mean         61.436162\n",
              "std          25.696218\n",
              "min           0.000000\n",
              "25%          41.200000\n",
              "50%          58.150000\n",
              "75%          76.300000\n",
              "max         342.800000\n",
              "Name: precio, dtype: float64"
            ]
          },
          "execution_count": 12,
          "metadata": {},
          "output_type": "execute_result"
        }
      ],
      "source": [
        "renfe_df.precio.describe()\n",
        "#precio mínimo=0\n",
        "#25%= 41.20000/ 50%=58.150000/ 75%=76.300000\n",
        "#precio máximo= 342.80000"
      ]
    },
    {
      "cell_type": "markdown",
      "metadata": {
        "id": "3iIqiOwFc3VK"
      },
      "source": [
        "### P7.3: ¿Hay algo raro en el valor mínimo de `precio`? Quita las filas con ese valor del dataset"
      ]
    },
    {
      "cell_type": "code",
      "execution_count": null,
      "metadata": {
        "id": "rTkMi9eZc3VK",
        "outputId": "aededa5a-8fc7-4214-cfef-7f4a593d146c"
      },
      "outputs": [
        {
          "data": {
            "text/plain": [
              "count    355018.000000\n",
              "mean         61.436508\n",
              "std          25.695877\n",
              "min          12.850000\n",
              "25%          41.200000\n",
              "50%          58.150000\n",
              "75%          76.300000\n",
              "max         342.800000\n",
              "Name: precio, dtype: float64"
            ]
          },
          "execution_count": 13,
          "metadata": {},
          "output_type": "execute_result"
        }
      ],
      "source": [
        "renfe_df.drop(renfe_df.loc[renfe_df['precio']== 0].index, inplace=True) #quita las filas donde precio=0 \n",
        "renfe_df.precio.describe() #ahora el valor minimo del precio es 12.850000"
      ]
    },
    {
      "cell_type": "markdown",
      "metadata": {
        "id": "AAzSvabac3VL"
      },
      "source": [
        "### P7.4: Reemplaza los valores nulos en `precio` por la media de esa columna"
      ]
    },
    {
      "cell_type": "code",
      "execution_count": null,
      "metadata": {
        "id": "2ynpDd4Xc3VL"
      },
      "outputs": [],
      "source": [
        "mean_precio = renfe_df.precio.mean() #nombre la media como mean_precio\n",
        "renfe_df.loc[renfe_df.precio.isna(), 'precio'] = mean_precio  #igualé los valores nulos a media\n",
        "assert renfe_df.precio.isna().any() == False"
      ]
    },
    {
      "cell_type": "markdown",
      "metadata": {
        "id": "zhw09EDGc3VL"
      },
      "source": [
        "### P7.5: Quita las filas donde `clase` o `tipo_tarifa` sean nulos"
      ]
    },
    {
      "cell_type": "code",
      "execution_count": null,
      "metadata": {
        "id": "Svh713Tlc3VL",
        "outputId": "430f5ab2-65ef-4d9a-f123-5a03c6f27d72"
      },
      "outputs": [
        {
          "data": {
            "text/plain": [
              "fecha_consulta    0\n",
              "fecha_inicio      0\n",
              "fecha_fin         0\n",
              "ciudad_origen     0\n",
              "ciudad_destino    0\n",
              "tipo_tren         0\n",
              "tipo_tarifa       0\n",
              "clase             0\n",
              "precio            0\n",
              "dtype: int64"
            ]
          },
          "execution_count": 15,
          "metadata": {},
          "output_type": "execute_result"
        }
      ],
      "source": [
        "\n",
        "renfe_df.drop(renfe_df.loc[renfe_df['clase'].isnull()].index, inplace=True) #Quité los valores nulos de clase\n",
        "renfe_df.drop(renfe_df.loc[renfe_df['tipo_tarifa'].isnull()].index, inplace=True) #Lo mismo com la columna tipo_tarifa\n",
        "renfe_df.isnull().sum() #ahora se puede ver que ya no hay valores nulos en ninguna de las columnas"
      ]
    },
    {
      "cell_type": "markdown",
      "metadata": {
        "id": "MsJ8L2oVc3VL"
      },
      "source": [
        "## P8: Tiempo de viaje"
      ]
    },
    {
      "cell_type": "markdown",
      "metadata": {
        "id": "eOmRonvCc3VL"
      },
      "source": [
        "### P8.1: Calcula el tiempo de viaje en minutos (fecha_fin - fecha_inicio)"
      ]
    },
    {
      "cell_type": "code",
      "execution_count": null,
      "metadata": {
        "id": "blXK9rvEc3VL",
        "outputId": "759160d3-31ce-4f4a-e740-bce9079e3cad"
      },
      "outputs": [
        {
          "data": {
            "text/plain": [
              "0         158.0\n",
              "1         190.0\n",
              "2         150.0\n",
              "3         460.0\n",
              "4         179.0\n",
              "          ...  \n",
              "383563    109.0\n",
              "383564    190.0\n",
              "383565    100.0\n",
              "383566    141.0\n",
              "383567    106.0\n",
              "Length: 382195, dtype: float64"
            ]
          },
          "execution_count": 16,
          "metadata": {},
          "output_type": "execute_result"
        }
      ],
      "source": [
        "tiempo_de_viaje = (renfe_df.fecha_fin - renfe_df.fecha_inicio)\n",
        "tiempo_de_viaje= tiempo_de_viaje.astype('timedelta64[m]') #para convertir a minutos\n",
        "tiempo_de_viaje"
      ]
    },
    {
      "cell_type": "markdown",
      "metadata": {
        "id": "laz58EZPc3VM"
      },
      "source": [
        "### P8.2: Haz un histograma de la variable que acabas de crear (`tiempo_de_viaje`)"
      ]
    },
    {
      "cell_type": "code",
      "execution_count": null,
      "metadata": {
        "id": "4yUAhQf6c3VM",
        "outputId": "160d7979-fc73-4aee-827b-f5b0d4735ae6"
      },
      "outputs": [
        {
          "data": {
            "text/plain": [
              "<AxesSubplot:>"
            ]
          },
          "execution_count": 17,
          "metadata": {},
          "output_type": "execute_result"
        },
        {
          "data": {
            "image/png": "[encoded data removed]",
            "text/plain": [
              "<Figure size 640x480 with 1 Axes>"
            ]
          },
          "metadata": {},
          "output_type": "display_data"
        }
      ],
      "source": [
        "import matplotlib as plt \n",
        "tiempo_de_viaje.hist()"
      ]
    },
    {
      "cell_type": "markdown",
      "metadata": {
        "id": "QpCD_t7gc3VM"
      },
      "source": [
        "## P9: Extrae el día, el nombre del día, el mes y la hora de `fecha_inicio`"
      ]
    },
    {
      "cell_type": "code",
      "execution_count": null,
      "metadata": {
        "id": "vykTGfgLc3VM"
      },
      "outputs": [],
      "source": [
        "renfe_df['nueva_fecha'] = [d.date() for d in renfe_df['fecha_inicio']] #columna con solamente las fechas\n",
        "renfe_df['nombre_dia'] = [d.weekday() for d in renfe_df['fecha_inicio']] #columna con los nombres del día"
      ]
    },
    {
      "cell_type": "code",
      "execution_count": null,
      "metadata": {
        "id": "dOZoovXAc3VS"
      },
      "outputs": [],
      "source": [
        "\n",
        "#los dias de la semana estaban representados por numeros(0-6), para la mejor comprension los nombré\n",
        "renfe_df.loc[renfe_df['nombre_dia']== 0 , 'nombre_dia'] = 'lunes'\n",
        "renfe_df.loc[renfe_df['nombre_dia']== 1 , 'nombre_dia'] = 'martes'\n",
        "renfe_df.loc[renfe_df['nombre_dia']== 2 , 'nombre_dia'] = 'miercules'\n",
        "renfe_df.loc[renfe_df['nombre_dia']== 3 , 'nombre_dia'] = 'jueves'\n",
        "renfe_df.loc[renfe_df['nombre_dia']== 4 , 'nombre_dia'] = 'viernes'\n",
        "renfe_df.loc[renfe_df['nombre_dia']== 5 , 'nombre_dia'] = 'sabado'\n",
        "renfe_df.loc[renfe_df['nombre_dia']== 6 , 'nombre_dia'] = 'domingo'"
      ]
    },
    {
      "cell_type": "code",
      "execution_count": null,
      "metadata": {
        "id": "-W39PC7Nc3VS",
        "outputId": "29e7f62f-7cf5-49a5-a663-66b85d1c8b65"
      },
      "outputs": [
        {
          "data": {
            "text/html": [
              "<div>\n",
              "<style scoped>\n",
              "    .dataframe tbody tr th:only-of-type {\n",
              "        vertical-align: middle;\n",
              "    }\n",
              "\n",
              "    .dataframe tbody tr th {\n",
              "        vertical-align: top;\n",
              "    }\n",
              "\n",
              "    .dataframe thead th {\n",
              "        text-align: right;\n",
              "    }\n",
              "</style>\n",
              "<table border=\"1\" class=\"dataframe\">\n",
              "  <thead>\n",
              "    <tr style=\"text-align: right;\">\n",
              "      <th></th>\n",
              "      <th>fecha_consulta</th>\n",
              "      <th>fecha_inicio</th>\n",
              "      <th>fecha_fin</th>\n",
              "      <th>ciudad_origen</th>\n",
              "      <th>ciudad_destino</th>\n",
              "      <th>tipo_tren</th>\n",
              "      <th>tipo_tarifa</th>\n",
              "      <th>clase</th>\n",
              "      <th>precio</th>\n",
              "      <th>nueva_fecha</th>\n",
              "      <th>nombre_dia</th>\n",
              "      <th>día</th>\n",
              "      <th>mes</th>\n",
              "      <th>hora_inicio</th>\n",
              "    </tr>\n",
              "  </thead>\n",
              "  <tbody>\n",
              "    <tr>\n",
              "      <th>0</th>\n",
              "      <td>2019-05-25 01:43:03</td>\n",
              "      <td>2019-06-28 20:36:00</td>\n",
              "      <td>2019-06-28 23:14:00</td>\n",
              "      <td>SEVILLA</td>\n",
              "      <td>MADRID</td>\n",
              "      <td>ALVIA</td>\n",
              "      <td>Flexible</td>\n",
              "      <td>Turista</td>\n",
              "      <td>67.20</td>\n",
              "      <td>2019-06-28</td>\n",
              "      <td>viernes</td>\n",
              "      <td>28</td>\n",
              "      <td>06</td>\n",
              "      <td>20:36:00</td>\n",
              "    </tr>\n",
              "    <tr>\n",
              "      <th>1</th>\n",
              "      <td>2019-06-22 13:05:11</td>\n",
              "      <td>2019-07-14 10:00:00</td>\n",
              "      <td>2019-07-14 13:10:00</td>\n",
              "      <td>BARCELONA</td>\n",
              "      <td>MADRID</td>\n",
              "      <td>AVE</td>\n",
              "      <td>Flexible</td>\n",
              "      <td>Turista</td>\n",
              "      <td>107.70</td>\n",
              "      <td>2019-07-14</td>\n",
              "      <td>domingo</td>\n",
              "      <td>14</td>\n",
              "      <td>07</td>\n",
              "      <td>10:00:00</td>\n",
              "    </tr>\n",
              "    <tr>\n",
              "      <th>2</th>\n",
              "      <td>2019-04-17 06:24:03</td>\n",
              "      <td>2019-05-23 13:40:00</td>\n",
              "      <td>2019-05-23 16:10:00</td>\n",
              "      <td>SEVILLA</td>\n",
              "      <td>MADRID</td>\n",
              "      <td>AVE</td>\n",
              "      <td>Promo</td>\n",
              "      <td>Turista</td>\n",
              "      <td>47.30</td>\n",
              "      <td>2019-05-23</td>\n",
              "      <td>jueves</td>\n",
              "      <td>23</td>\n",
              "      <td>05</td>\n",
              "      <td>13:40:00</td>\n",
              "    </tr>\n",
              "    <tr>\n",
              "      <th>3</th>\n",
              "      <td>2019-05-10 21:21:59</td>\n",
              "      <td>2019-05-29 14:50:00</td>\n",
              "      <td>2019-05-29 22:30:00</td>\n",
              "      <td>VALENCIA</td>\n",
              "      <td>MADRID</td>\n",
              "      <td>REGIONAL</td>\n",
              "      <td>Adulto ida</td>\n",
              "      <td>Turista</td>\n",
              "      <td>28.35</td>\n",
              "      <td>2019-05-29</td>\n",
              "      <td>miercules</td>\n",
              "      <td>29</td>\n",
              "      <td>05</td>\n",
              "      <td>14:50:00</td>\n",
              "    </tr>\n",
              "    <tr>\n",
              "      <th>4</th>\n",
              "      <td>2019-05-09 19:43:37</td>\n",
              "      <td>2019-06-26 13:25:00</td>\n",
              "      <td>2019-06-26 16:24:00</td>\n",
              "      <td>MADRID</td>\n",
              "      <td>BARCELONA</td>\n",
              "      <td>AVE-TGV</td>\n",
              "      <td>Promo</td>\n",
              "      <td>Turista</td>\n",
              "      <td>66.75</td>\n",
              "      <td>2019-06-26</td>\n",
              "      <td>miercules</td>\n",
              "      <td>26</td>\n",
              "      <td>06</td>\n",
              "      <td>13:25:00</td>\n",
              "    </tr>\n",
              "  </tbody>\n",
              "</table>\n",
              "</div>"
            ],
            "text/plain": [
              "       fecha_consulta        fecha_inicio           fecha_fin ciudad_origen  \\\n",
              "0 2019-05-25 01:43:03 2019-06-28 20:36:00 2019-06-28 23:14:00       SEVILLA   \n",
              "1 2019-06-22 13:05:11 2019-07-14 10:00:00 2019-07-14 13:10:00     BARCELONA   \n",
              "2 2019-04-17 06:24:03 2019-05-23 13:40:00 2019-05-23 16:10:00       SEVILLA   \n",
              "3 2019-05-10 21:21:59 2019-05-29 14:50:00 2019-05-29 22:30:00      VALENCIA   \n",
              "4 2019-05-09 19:43:37 2019-06-26 13:25:00 2019-06-26 16:24:00        MADRID   \n",
              "\n",
              "  ciudad_destino tipo_tren tipo_tarifa    clase  precio nueva_fecha  \\\n",
              "0         MADRID     ALVIA    Flexible  Turista   67.20  2019-06-28   \n",
              "1         MADRID       AVE    Flexible  Turista  107.70  2019-07-14   \n",
              "2         MADRID       AVE       Promo  Turista   47.30  2019-05-23   \n",
              "3         MADRID  REGIONAL  Adulto ida  Turista   28.35  2019-05-29   \n",
              "4      BARCELONA   AVE-TGV       Promo  Turista   66.75  2019-06-26   \n",
              "\n",
              "  nombre_dia día mes hora_inicio  \n",
              "0    viernes  28  06    20:36:00  \n",
              "1    domingo  14  07    10:00:00  \n",
              "2     jueves  23  05    13:40:00  \n",
              "3  miercules  29  05    14:50:00  \n",
              "4  miercules  26  06    13:25:00  "
            ]
          },
          "execution_count": 20,
          "metadata": {},
          "output_type": "execute_result"
        }
      ],
      "source": [
        "renfe_df['nueva_fecha'] = renfe_df['nueva_fecha'].astype('string') #conberti la columna de fechas en string para hacer un slip.\n",
        "columnas_fecha= renfe_df.nueva_fecha.str.split('-', n=3, expand=True)#dividir la columna de fechas en 3(año/mes/dia)\n",
        "columnas_fecha\n",
        "renfe_df['día']= columnas_fecha[2]# cria una nueva columna con los dias\n",
        "renfe_df['mes'] =columnas_fecha[1]# cria una nueva columna con los meses\n",
        "renfe_df['hora_inicio'] = [d.time() for d in renfe_df['fecha_inicio']]#nueva columna con la hora de inicio\n",
        "renfe_df.head()\n"
      ]
    },
    {
      "cell_type": "markdown",
      "metadata": {
        "id": "7RxFgTZMc3VS"
      },
      "source": [
        "## P10: Quita las columnas `fecha_consulta`, `fecha_inicio` y `fecha_fin` del dataset"
      ]
    },
    {
      "cell_type": "code",
      "execution_count": null,
      "metadata": {
        "id": "XJkQRbq6c3VS",
        "outputId": "7df5d137-35f3-4440-95ff-62d1b1da3f0a"
      },
      "outputs": [
        {
          "data": {
            "text/html": [
              "<div>\n",
              "<style scoped>\n",
              "    .dataframe tbody tr th:only-of-type {\n",
              "        vertical-align: middle;\n",
              "    }\n",
              "\n",
              "    .dataframe tbody tr th {\n",
              "        vertical-align: top;\n",
              "    }\n",
              "\n",
              "    .dataframe thead th {\n",
              "        text-align: right;\n",
              "    }\n",
              "</style>\n",
              "<table border=\"1\" class=\"dataframe\">\n",
              "  <thead>\n",
              "    <tr style=\"text-align: right;\">\n",
              "      <th></th>\n",
              "      <th>ciudad_origen</th>\n",
              "      <th>ciudad_destino</th>\n",
              "      <th>tipo_tren</th>\n",
              "      <th>tipo_tarifa</th>\n",
              "      <th>clase</th>\n",
              "      <th>precio</th>\n",
              "      <th>nueva_fecha</th>\n",
              "      <th>nombre_dia</th>\n",
              "      <th>día</th>\n",
              "      <th>mes</th>\n",
              "      <th>hora_inicio</th>\n",
              "    </tr>\n",
              "  </thead>\n",
              "  <tbody>\n",
              "    <tr>\n",
              "      <th>0</th>\n",
              "      <td>SEVILLA</td>\n",
              "      <td>MADRID</td>\n",
              "      <td>ALVIA</td>\n",
              "      <td>Flexible</td>\n",
              "      <td>Turista</td>\n",
              "      <td>67.20</td>\n",
              "      <td>2019-06-28</td>\n",
              "      <td>viernes</td>\n",
              "      <td>28</td>\n",
              "      <td>06</td>\n",
              "      <td>20:36:00</td>\n",
              "    </tr>\n",
              "    <tr>\n",
              "      <th>1</th>\n",
              "      <td>BARCELONA</td>\n",
              "      <td>MADRID</td>\n",
              "      <td>AVE</td>\n",
              "      <td>Flexible</td>\n",
              "      <td>Turista</td>\n",
              "      <td>107.70</td>\n",
              "      <td>2019-07-14</td>\n",
              "      <td>domingo</td>\n",
              "      <td>14</td>\n",
              "      <td>07</td>\n",
              "      <td>10:00:00</td>\n",
              "    </tr>\n",
              "    <tr>\n",
              "      <th>2</th>\n",
              "      <td>SEVILLA</td>\n",
              "      <td>MADRID</td>\n",
              "      <td>AVE</td>\n",
              "      <td>Promo</td>\n",
              "      <td>Turista</td>\n",
              "      <td>47.30</td>\n",
              "      <td>2019-05-23</td>\n",
              "      <td>jueves</td>\n",
              "      <td>23</td>\n",
              "      <td>05</td>\n",
              "      <td>13:40:00</td>\n",
              "    </tr>\n",
              "    <tr>\n",
              "      <th>3</th>\n",
              "      <td>VALENCIA</td>\n",
              "      <td>MADRID</td>\n",
              "      <td>REGIONAL</td>\n",
              "      <td>Adulto ida</td>\n",
              "      <td>Turista</td>\n",
              "      <td>28.35</td>\n",
              "      <td>2019-05-29</td>\n",
              "      <td>miercules</td>\n",
              "      <td>29</td>\n",
              "      <td>05</td>\n",
              "      <td>14:50:00</td>\n",
              "    </tr>\n",
              "    <tr>\n",
              "      <th>4</th>\n",
              "      <td>MADRID</td>\n",
              "      <td>BARCELONA</td>\n",
              "      <td>AVE-TGV</td>\n",
              "      <td>Promo</td>\n",
              "      <td>Turista</td>\n",
              "      <td>66.75</td>\n",
              "      <td>2019-06-26</td>\n",
              "      <td>miercules</td>\n",
              "      <td>26</td>\n",
              "      <td>06</td>\n",
              "      <td>13:25:00</td>\n",
              "    </tr>\n",
              "  </tbody>\n",
              "</table>\n",
              "</div>"
            ],
            "text/plain": [
              "  ciudad_origen ciudad_destino tipo_tren tipo_tarifa    clase  precio  \\\n",
              "0       SEVILLA         MADRID     ALVIA    Flexible  Turista   67.20   \n",
              "1     BARCELONA         MADRID       AVE    Flexible  Turista  107.70   \n",
              "2       SEVILLA         MADRID       AVE       Promo  Turista   47.30   \n",
              "3      VALENCIA         MADRID  REGIONAL  Adulto ida  Turista   28.35   \n",
              "4        MADRID      BARCELONA   AVE-TGV       Promo  Turista   66.75   \n",
              "\n",
              "  nueva_fecha nombre_dia día mes hora_inicio  \n",
              "0  2019-06-28    viernes  28  06    20:36:00  \n",
              "1  2019-07-14    domingo  14  07    10:00:00  \n",
              "2  2019-05-23     jueves  23  05    13:40:00  \n",
              "3  2019-05-29  miercules  29  05    14:50:00  \n",
              "4  2019-06-26  miercules  26  06    13:25:00  "
            ]
          },
          "execution_count": 21,
          "metadata": {},
          "output_type": "execute_result"
        }
      ],
      "source": [
        "renfe_df.drop(['fecha_consulta', 'fecha_inicio', 'fecha_fin'], axis=1, inplace= True) #para quitar las colimnas del dataset\n",
        "renfe_df.head()"
      ]
    },
    {
      "cell_type": "markdown",
      "metadata": {
        "id": "eJyiIlSTc3VT"
      },
      "source": [
        "## P11: Lee el dataset `coordenadas_ciudades.csv` y únelo con al dataset que has procesado hasta ahora (utiliza `ciudad_destino` para el `join`)"
      ]
    },
    {
      "cell_type": "code",
      "execution_count": null,
      "metadata": {
        "id": "8wveSKg_c3VT",
        "outputId": "a2636edd-a21e-4cda-effb-8b7791c90a6e"
      },
      "outputs": [
        {
          "data": {
            "text/html": [
              "<div>\n",
              "<style scoped>\n",
              "    .dataframe tbody tr th:only-of-type {\n",
              "        vertical-align: middle;\n",
              "    }\n",
              "\n",
              "    .dataframe tbody tr th {\n",
              "        vertical-align: top;\n",
              "    }\n",
              "\n",
              "    .dataframe thead th {\n",
              "        text-align: right;\n",
              "    }\n",
              "</style>\n",
              "<table border=\"1\" class=\"dataframe\">\n",
              "  <thead>\n",
              "    <tr style=\"text-align: right;\">\n",
              "      <th></th>\n",
              "      <th>ciudad</th>\n",
              "      <th>latitud</th>\n",
              "      <th>longitud</th>\n",
              "    </tr>\n",
              "  </thead>\n",
              "  <tbody>\n",
              "    <tr>\n",
              "      <th>0</th>\n",
              "      <td>MADRID</td>\n",
              "      <td>40.416705</td>\n",
              "      <td>-3.703582</td>\n",
              "    </tr>\n",
              "    <tr>\n",
              "      <th>1</th>\n",
              "      <td>BARCELONA</td>\n",
              "      <td>41.382894</td>\n",
              "      <td>2.177432</td>\n",
              "    </tr>\n",
              "    <tr>\n",
              "      <th>2</th>\n",
              "      <td>SEVILLA</td>\n",
              "      <td>37.388630</td>\n",
              "      <td>-5.995340</td>\n",
              "    </tr>\n",
              "    <tr>\n",
              "      <th>3</th>\n",
              "      <td>VALENCIA</td>\n",
              "      <td>39.469901</td>\n",
              "      <td>-0.375951</td>\n",
              "    </tr>\n",
              "    <tr>\n",
              "      <th>4</th>\n",
              "      <td>PONFERRADA</td>\n",
              "      <td>42.545412</td>\n",
              "      <td>-6.593872</td>\n",
              "    </tr>\n",
              "  </tbody>\n",
              "</table>\n",
              "</div>"
            ],
            "text/plain": [
              "       ciudad    latitud  longitud\n",
              "0      MADRID  40.416705 -3.703582\n",
              "1   BARCELONA  41.382894  2.177432\n",
              "2     SEVILLA  37.388630 -5.995340\n",
              "3    VALENCIA  39.469901 -0.375951\n",
              "4  PONFERRADA  42.545412 -6.593872"
            ]
          },
          "execution_count": 30,
          "metadata": {},
          "output_type": "execute_result"
        }
      ],
      "source": [
        "ciudad_df = pd.read_csv('coordenadas_ciudades.csv')\n",
        "ciudad_destino_df = renfe_df.join(ciudad_df)\n",
        "ciudad_destino_df"
      ]
    },
    {
      "cell_type": "code",
      "execution_count": null,
      "metadata": {
        "id": "lAhBGzlFc3VT",
        "outputId": "14fba76d-dab8-4786-b9f1-5661a130ed93"
      },
      "outputs": [
        {
          "data": {
            "text/html": [
              "<div>\n",
              "<style scoped>\n",
              "    .dataframe tbody tr th:only-of-type {\n",
              "        vertical-align: middle;\n",
              "    }\n",
              "\n",
              "    .dataframe tbody tr th {\n",
              "        vertical-align: top;\n",
              "    }\n",
              "\n",
              "    .dataframe thead th {\n",
              "        text-align: right;\n",
              "    }\n",
              "</style>\n",
              "<table border=\"1\" class=\"dataframe\">\n",
              "  <thead>\n",
              "    <tr style=\"text-align: right;\">\n",
              "      <th></th>\n",
              "      <th>ciudad_origen</th>\n",
              "      <th>ciudad_destino</th>\n",
              "      <th>tipo_tren</th>\n",
              "      <th>tipo_tarifa</th>\n",
              "      <th>clase</th>\n",
              "      <th>precio</th>\n",
              "      <th>nueva_fecha</th>\n",
              "      <th>nombre_dia</th>\n",
              "      <th>día</th>\n",
              "      <th>mes</th>\n",
              "      <th>hora_inicio</th>\n",
              "      <th>ciudad</th>\n",
              "      <th>latitud</th>\n",
              "      <th>longitud</th>\n",
              "      <th>precio_medio</th>\n",
              "    </tr>\n",
              "  </thead>\n",
              "  <tbody>\n",
              "    <tr>\n",
              "      <th>0</th>\n",
              "      <td>SEVILLA</td>\n",
              "      <td>MADRID</td>\n",
              "      <td>ALVIA</td>\n",
              "      <td>Flexible</td>\n",
              "      <td>Turista</td>\n",
              "      <td>67.20</td>\n",
              "      <td>2019-06-28</td>\n",
              "      <td>viernes</td>\n",
              "      <td>28</td>\n",
              "      <td>06</td>\n",
              "      <td>20:36:00</td>\n",
              "      <td>MADRID</td>\n",
              "      <td>40.416705</td>\n",
              "      <td>-3.703582</td>\n",
              "      <td>60.700061</td>\n",
              "    </tr>\n",
              "    <tr>\n",
              "      <th>1</th>\n",
              "      <td>BARCELONA</td>\n",
              "      <td>MADRID</td>\n",
              "      <td>AVE</td>\n",
              "      <td>Flexible</td>\n",
              "      <td>Turista</td>\n",
              "      <td>107.70</td>\n",
              "      <td>2019-07-14</td>\n",
              "      <td>domingo</td>\n",
              "      <td>14</td>\n",
              "      <td>07</td>\n",
              "      <td>10:00:00</td>\n",
              "      <td>BARCELONA</td>\n",
              "      <td>41.382894</td>\n",
              "      <td>2.177432</td>\n",
              "      <td>85.360833</td>\n",
              "    </tr>\n",
              "    <tr>\n",
              "      <th>2</th>\n",
              "      <td>SEVILLA</td>\n",
              "      <td>MADRID</td>\n",
              "      <td>AVE</td>\n",
              "      <td>Promo</td>\n",
              "      <td>Turista</td>\n",
              "      <td>47.30</td>\n",
              "      <td>2019-05-23</td>\n",
              "      <td>jueves</td>\n",
              "      <td>23</td>\n",
              "      <td>05</td>\n",
              "      <td>13:40:00</td>\n",
              "      <td>SEVILLA</td>\n",
              "      <td>37.388630</td>\n",
              "      <td>-5.995340</td>\n",
              "      <td>58.818389</td>\n",
              "    </tr>\n",
              "    <tr>\n",
              "      <th>3</th>\n",
              "      <td>VALENCIA</td>\n",
              "      <td>MADRID</td>\n",
              "      <td>REGIONAL</td>\n",
              "      <td>Adulto ida</td>\n",
              "      <td>Turista</td>\n",
              "      <td>28.35</td>\n",
              "      <td>2019-05-29</td>\n",
              "      <td>miercules</td>\n",
              "      <td>29</td>\n",
              "      <td>05</td>\n",
              "      <td>14:50:00</td>\n",
              "      <td>VALENCIA</td>\n",
              "      <td>39.469901</td>\n",
              "      <td>-0.375951</td>\n",
              "      <td>42.637584</td>\n",
              "    </tr>\n",
              "    <tr>\n",
              "      <th>4</th>\n",
              "      <td>MADRID</td>\n",
              "      <td>BARCELONA</td>\n",
              "      <td>AVE-TGV</td>\n",
              "      <td>Promo</td>\n",
              "      <td>Turista</td>\n",
              "      <td>66.75</td>\n",
              "      <td>2019-06-26</td>\n",
              "      <td>miercules</td>\n",
              "      <td>26</td>\n",
              "      <td>06</td>\n",
              "      <td>13:25:00</td>\n",
              "      <td>PONFERRADA</td>\n",
              "      <td>42.545412</td>\n",
              "      <td>-6.593872</td>\n",
              "      <td>45.650328</td>\n",
              "    </tr>\n",
              "    <tr>\n",
              "      <th>...</th>\n",
              "      <td>...</td>\n",
              "      <td>...</td>\n",
              "      <td>...</td>\n",
              "      <td>...</td>\n",
              "      <td>...</td>\n",
              "      <td>...</td>\n",
              "      <td>...</td>\n",
              "      <td>...</td>\n",
              "      <td>...</td>\n",
              "      <td>...</td>\n",
              "      <td>...</td>\n",
              "      <td>...</td>\n",
              "      <td>...</td>\n",
              "      <td>...</td>\n",
              "      <td>...</td>\n",
              "    </tr>\n",
              "    <tr>\n",
              "      <th>382190</th>\n",
              "      <td>MADRID</td>\n",
              "      <td>VALENCIA</td>\n",
              "      <td>AVE</td>\n",
              "      <td>Flexible</td>\n",
              "      <td>Turista</td>\n",
              "      <td>73.10</td>\n",
              "      <td>2019-05-10</td>\n",
              "      <td>viernes</td>\n",
              "      <td>10</td>\n",
              "      <td>05</td>\n",
              "      <td>19:40:00</td>\n",
              "      <td>NaN</td>\n",
              "      <td>NaN</td>\n",
              "      <td>NaN</td>\n",
              "      <td>NaN</td>\n",
              "    </tr>\n",
              "    <tr>\n",
              "      <th>382191</th>\n",
              "      <td>BARCELONA</td>\n",
              "      <td>MADRID</td>\n",
              "      <td>AVE</td>\n",
              "      <td>Promo</td>\n",
              "      <td>Preferente</td>\n",
              "      <td>54.45</td>\n",
              "      <td>2019-08-05</td>\n",
              "      <td>lunes</td>\n",
              "      <td>05</td>\n",
              "      <td>08</td>\n",
              "      <td>20:00:00</td>\n",
              "      <td>NaN</td>\n",
              "      <td>NaN</td>\n",
              "      <td>NaN</td>\n",
              "      <td>NaN</td>\n",
              "    </tr>\n",
              "    <tr>\n",
              "      <th>382192</th>\n",
              "      <td>VALENCIA</td>\n",
              "      <td>MADRID</td>\n",
              "      <td>AVE</td>\n",
              "      <td>Promo</td>\n",
              "      <td>Turista</td>\n",
              "      <td>27.80</td>\n",
              "      <td>2019-04-29</td>\n",
              "      <td>lunes</td>\n",
              "      <td>29</td>\n",
              "      <td>04</td>\n",
              "      <td>16:15:00</td>\n",
              "      <td>NaN</td>\n",
              "      <td>NaN</td>\n",
              "      <td>NaN</td>\n",
              "      <td>NaN</td>\n",
              "    </tr>\n",
              "    <tr>\n",
              "      <th>382193</th>\n",
              "      <td>MADRID</td>\n",
              "      <td>SEVILLA</td>\n",
              "      <td>AVE</td>\n",
              "      <td>Promo</td>\n",
              "      <td>Turista</td>\n",
              "      <td>47.30</td>\n",
              "      <td>2019-07-07</td>\n",
              "      <td>domingo</td>\n",
              "      <td>07</td>\n",
              "      <td>07</td>\n",
              "      <td>15:00:00</td>\n",
              "      <td>NaN</td>\n",
              "      <td>NaN</td>\n",
              "      <td>NaN</td>\n",
              "      <td>NaN</td>\n",
              "    </tr>\n",
              "    <tr>\n",
              "      <th>382194</th>\n",
              "      <td>VALENCIA</td>\n",
              "      <td>MADRID</td>\n",
              "      <td>AVE</td>\n",
              "      <td>Flexible</td>\n",
              "      <td>Turista</td>\n",
              "      <td>73.10</td>\n",
              "      <td>2019-06-16</td>\n",
              "      <td>domingo</td>\n",
              "      <td>16</td>\n",
              "      <td>06</td>\n",
              "      <td>18:35:00</td>\n",
              "      <td>NaN</td>\n",
              "      <td>NaN</td>\n",
              "      <td>NaN</td>\n",
              "      <td>NaN</td>\n",
              "    </tr>\n",
              "  </tbody>\n",
              "</table>\n",
              "<p>382195 rows × 15 columns</p>\n",
              "</div>"
            ],
            "text/plain": [
              "       ciudad_origen ciudad_destino tipo_tren tipo_tarifa       clase  precio  \\\n",
              "0            SEVILLA         MADRID     ALVIA    Flexible     Turista   67.20   \n",
              "1          BARCELONA         MADRID       AVE    Flexible     Turista  107.70   \n",
              "2            SEVILLA         MADRID       AVE       Promo     Turista   47.30   \n",
              "3           VALENCIA         MADRID  REGIONAL  Adulto ida     Turista   28.35   \n",
              "4             MADRID      BARCELONA   AVE-TGV       Promo     Turista   66.75   \n",
              "...              ...            ...       ...         ...         ...     ...   \n",
              "382190        MADRID       VALENCIA       AVE    Flexible     Turista   73.10   \n",
              "382191     BARCELONA         MADRID       AVE       Promo  Preferente   54.45   \n",
              "382192      VALENCIA         MADRID       AVE       Promo     Turista   27.80   \n",
              "382193        MADRID        SEVILLA       AVE       Promo     Turista   47.30   \n",
              "382194      VALENCIA         MADRID       AVE    Flexible     Turista   73.10   \n",
              "\n",
              "       nueva_fecha nombre_dia día mes hora_inicio      ciudad    latitud  \\\n",
              "0       2019-06-28    viernes  28  06    20:36:00      MADRID  40.416705   \n",
              "1       2019-07-14    domingo  14  07    10:00:00   BARCELONA  41.382894   \n",
              "2       2019-05-23     jueves  23  05    13:40:00     SEVILLA  37.388630   \n",
              "3       2019-05-29  miercules  29  05    14:50:00    VALENCIA  39.469901   \n",
              "4       2019-06-26  miercules  26  06    13:25:00  PONFERRADA  42.545412   \n",
              "...            ...        ...  ..  ..         ...         ...        ...   \n",
              "382190  2019-05-10    viernes  10  05    19:40:00         NaN        NaN   \n",
              "382191  2019-08-05      lunes  05  08    20:00:00         NaN        NaN   \n",
              "382192  2019-04-29      lunes  29  04    16:15:00         NaN        NaN   \n",
              "382193  2019-07-07    domingo  07  07    15:00:00         NaN        NaN   \n",
              "382194  2019-06-16    domingo  16  06    18:35:00         NaN        NaN   \n",
              "\n",
              "        longitud  precio_medio  \n",
              "0      -3.703582     60.700061  \n",
              "1       2.177432     85.360833  \n",
              "2      -5.995340     58.818389  \n",
              "3      -0.375951     42.637584  \n",
              "4      -6.593872     45.650328  \n",
              "...          ...           ...  \n",
              "382190       NaN           NaN  \n",
              "382191       NaN           NaN  \n",
              "382192       NaN           NaN  \n",
              "382193       NaN           NaN  \n",
              "382194       NaN           NaN  \n",
              "\n",
              "[382195 rows x 15 columns]"
            ]
          },
          "execution_count": 23,
          "metadata": {},
          "output_type": "execute_result"
        }
      ],
      "source": [
        "mean_precio_ciudad = renfe_df.groupby(['ciudad_destino']).mean(['precio']) #precio medio por ciudad de destino\n",
        "mean_precio_ciudad['ciudad'] = mean_precio_ciudad.index #convertir el index en una columna para unirla con el dataframe\n",
        "ciudad_destino_df= ciudad_destino_df.merge(mean_precio_ciudad , on='ciudad', how='left', suffixes=('', '_medio')) #aqui uso el merge para unir la media en el dataframe\n",
        "ciudad_destino_df"
      ]
    },
    {
      "cell_type": "markdown",
      "metadata": {
        "id": "Dt_4aobhc3VT"
      },
      "source": [
        "## P12: Gráfica en un mapa el precio medio por ciudad de destino"
      ]
    },
    {
      "cell_type": "code",
      "execution_count": null,
      "metadata": {
        "id": "KUGsO2uYc3VU",
        "outputId": "dad9e26f-cb8a-4a58-a4c4-90bfc2f9559b"
      },
      "outputs": [
        {
          "data": {
            "application/vnd.plotly.v1+json": {
              "config": {
                "plotlyServerURL": "https://plot.ly"
              },
              "data": [
                {
                  "customdata": [
                    [
                      60.70006078253857
                    ]
                  ],
                  "geo": "geo",
                  "hovertemplate": "<b>%{hovertext}</b><br><br>ciudad=MADRID<br>precio_medio=%{customdata[0]}<br>latitud=%{lat}<br>longitud=%{lon}<extra></extra>",
                  "hovertext": [
                    "MADRID"
                  ],
                  "lat": [
                    40.4167047
                  ],
                  "legendgroup": "MADRID",
                  "lon": [
                    -3.7035825
                  ],
                  "marker": {
                    "color": "#636efa",
                    "size": [
                      60.70006078253857
                    ],
                    "sizemode": "area",
                    "sizeref": 0.21340208314804004,
                    "symbol": "circle"
                  },
                  "mode": "markers",
                  "name": "MADRID",
                  "showlegend": true,
                  "type": "scattergeo"
                },
                {
                  "customdata": [
                    [
                      85.36083325921602
                    ]
                  ],
                  "geo": "geo",
                  "hovertemplate": "<b>%{hovertext}</b><br><br>ciudad=BARCELONA<br>precio_medio=%{customdata[0]}<br>latitud=%{lat}<br>longitud=%{lon}<extra></extra>",
                  "hovertext": [
                    "BARCELONA"
                  ],
                  "lat": [
                    41.3828939
                  ],
                  "legendgroup": "BARCELONA",
                  "lon": [
                    2.1774322
                  ],
                  "marker": {
                    "color": "#EF553B",
                    "size": [
                      85.36083325921602
                    ],
                    "sizemode": "area",
                    "sizeref": 0.21340208314804004,
                    "symbol": "circle"
                  },
                  "mode": "markers",
                  "name": "BARCELONA",
                  "showlegend": true,
                  "type": "scattergeo"
                },
                {
                  "customdata": [
                    [
                      58.81838903708664
                    ]
                  ],
                  "geo": "geo",
                  "hovertemplate": "<b>%{hovertext}</b><br><br>ciudad=SEVILLA<br>precio_medio=%{customdata[0]}<br>latitud=%{lat}<br>longitud=%{lon}<extra></extra>",
                  "hovertext": [
                    "SEVILLA"
                  ],
                  "lat": [
                    37.3886303
                  ],
                  "legendgroup": "SEVILLA",
                  "lon": [
                    -5.9953403
                  ],
                  "marker": {
                    "color": "#00cc96",
                    "size": [
                      58.81838903708664
                    ],
                    "sizemode": "area",
                    "sizeref": 0.21340208314804004,
                    "symbol": "circle"
                  },
                  "mode": "markers",
                  "name": "SEVILLA",
                  "showlegend": true,
                  "type": "scattergeo"
                },
                {
                  "customdata": [
                    [
                      42.63758356595938
                    ]
                  ],
                  "geo": "geo",
                  "hovertemplate": "<b>%{hovertext}</b><br><br>ciudad=VALENCIA<br>precio_medio=%{customdata[0]}<br>latitud=%{lat}<br>longitud=%{lon}<extra></extra>",
                  "hovertext": [
                    "VALENCIA"
                  ],
                  "lat": [
                    39.4699014
                  ],
                  "legendgroup": "VALENCIA",
                  "lon": [
                    -0.3759513
                  ],
                  "marker": {
                    "color": "#ab63fa",
                    "size": [
                      42.63758356595938
                    ],
                    "sizemode": "area",
                    "sizeref": 0.21340208314804004,
                    "symbol": "circle"
                  },
                  "mode": "markers",
                  "name": "VALENCIA",
                  "showlegend": true,
                  "type": "scattergeo"
                },
                {
                  "customdata": [
                    [
                      45.65032784225425
                    ]
                  ],
                  "geo": "geo",
                  "hovertemplate": "<b>%{hovertext}</b><br><br>ciudad=PONFERRADA<br>precio_medio=%{customdata[0]}<br>latitud=%{lat}<br>longitud=%{lon}<extra></extra>",
                  "hovertext": [
                    "PONFERRADA"
                  ],
                  "lat": [
                    42.5454124
                  ],
                  "legendgroup": "PONFERRADA",
                  "lon": [
                    -6.5938719
                  ],
                  "marker": {
                    "color": "#FFA15A",
                    "size": [
                      45.65032784225425
                    ],
                    "sizemode": "area",
                    "sizeref": 0.21340208314804004,
                    "symbol": "circle"
                  },
                  "mode": "markers",
                  "name": "PONFERRADA",
                  "showlegend": true,
                  "type": "scattergeo"
                }
              ],
              "layout": {
                "geo": {
                  "center": {},
                  "domain": {
                    "x": [
                      0,
                      1
                    ],
                    "y": [
                      0,
                      1
                    ]
                  }
                },
                "legend": {
                  "itemsizing": "constant",
                  "title": {
                    "text": "ciudad"
                  },
                  "tracegroupgap": 0
                },
                "margin": {
                  "t": 60
                },
                "template": {
                  "data": {
                    "bar": [
                      {
                        "error_x": {
                          "color": "#2a3f5f"
                        },
                        "error_y": {
                          "color": "#2a3f5f"
                        },
                        "marker": {
                          "line": {
                            "color": "#E5ECF6",
                            "width": 0.5
                          },
                          "pattern": {
                            "fillmode": "overlay",
                            "size": 10,
                            "solidity": 0.2
                          }
                        },
                        "type": "bar"
                      }
                    ],
                    "barpolar": [
                      {
                        "marker": {
                          "line": {
                            "color": "#E5ECF6",
                            "width": 0.5
                          },
                          "pattern": {
                            "fillmode": "overlay",
                            "size": 10,
                            "solidity": 0.2
                          }
                        },
                        "type": "barpolar"
                      }
                    ],
                    "carpet": [
                      {
                        "aaxis": {
                          "endlinecolor": "#2a3f5f",
                          "gridcolor": "white",
                          "linecolor": "white",
                          "minorgridcolor": "white",
                          "startlinecolor": "#2a3f5f"
                        },
                        "baxis": {
                          "endlinecolor": "#2a3f5f",
                          "gridcolor": "white",
                          "linecolor": "white",
                          "minorgridcolor": "white",
                          "startlinecolor": "#2a3f5f"
                        },
                        "type": "carpet"
                      }
                    ],
                    "choropleth": [
                      {
                        "colorbar": {
                          "outlinewidth": 0,
                          "ticks": ""
                        },
                        "type": "choropleth"
                      }
                    ],
                    "contour": [
                      {
                        "colorbar": {
                          "outlinewidth": 0,
                          "ticks": ""
                        },
                        "colorscale": [
                          [
                            0,
                            "#0d0887"
                          ],
                          [
                            0.1111111111111111,
                            "#46039f"
                          ],
                          [
                            0.2222222222222222,
                            "#7201a8"
                          ],
                          [
                            0.3333333333333333,
                            "#9c179e"
                          ],
                          [
                            0.4444444444444444,
                            "#bd3786"
                          ],
                          [
                            0.5555555555555556,
                            "#d8576b"
                          ],
                          [
                            0.6666666666666666,
                            "#ed7953"
                          ],
                          [
                            0.7777777777777778,
                            "#fb9f3a"
                          ],
                          [
                            0.8888888888888888,
                            "#fdca26"
                          ],
                          [
                            1,
                            "#f0f921"
                          ]
                        ],
                        "type": "contour"
                      }
                    ],
                    "contourcarpet": [
                      {
                        "colorbar": {
                          "outlinewidth": 0,
                          "ticks": ""
                        },
                        "type": "contourcarpet"
                      }
                    ],
                    "heatmap": [
                      {
                        "colorbar": {
                          "outlinewidth": 0,
                          "ticks": ""
                        },
                        "colorscale": [
                          [
                            0,
                            "#0d0887"
                          ],
                          [
                            0.1111111111111111,
                            "#46039f"
                          ],
                          [
                            0.2222222222222222,
                            "#7201a8"
                          ],
                          [
                            0.3333333333333333,
                            "#9c179e"
                          ],
                          [
                            0.4444444444444444,
                            "#bd3786"
                          ],
                          [
                            0.5555555555555556,
                            "#d8576b"
                          ],
                          [
                            0.6666666666666666,
                            "#ed7953"
                          ],
                          [
                            0.7777777777777778,
                            "#fb9f3a"
                          ],
                          [
                            0.8888888888888888,
                            "#fdca26"
                          ],
                          [
                            1,
                            "#f0f921"
                          ]
                        ],
                        "type": "heatmap"
                      }
                    ],
                    "heatmapgl": [
                      {
                        "colorbar": {
                          "outlinewidth": 0,
                          "ticks": ""
                        },
                        "colorscale": [
                          [
                            0,
                            "#0d0887"
                          ],
                          [
                            0.1111111111111111,
                            "#46039f"
                          ],
                          [
                            0.2222222222222222,
                            "#7201a8"
                          ],
                          [
                            0.3333333333333333,
                            "#9c179e"
                          ],
                          [
                            0.4444444444444444,
                            "#bd3786"
                          ],
                          [
                            0.5555555555555556,
                            "#d8576b"
                          ],
                          [
                            0.6666666666666666,
                            "#ed7953"
                          ],
                          [
                            0.7777777777777778,
                            "#fb9f3a"
                          ],
                          [
                            0.8888888888888888,
                            "#fdca26"
                          ],
                          [
                            1,
                            "#f0f921"
                          ]
                        ],
                        "type": "heatmapgl"
                      }
                    ],
                    "histogram": [
                      {
                        "marker": {
                          "pattern": {
                            "fillmode": "overlay",
                            "size": 10,
                            "solidity": 0.2
                          }
                        },
                        "type": "histogram"
                      }
                    ],
                    "histogram2d": [
                      {
                        "colorbar": {
                          "outlinewidth": 0,
                          "ticks": ""
                        },
                        "colorscale": [
                          [
                            0,
                            "#0d0887"
                          ],
                          [
                            0.1111111111111111,
                            "#46039f"
                          ],
                          [
                            0.2222222222222222,
                            "#7201a8"
                          ],
                          [
                            0.3333333333333333,
                            "#9c179e"
                          ],
                          [
                            0.4444444444444444,
                            "#bd3786"
                          ],
                          [
                            0.5555555555555556,
                            "#d8576b"
                          ],
                          [
                            0.6666666666666666,
                            "#ed7953"
                          ],
                          [
                            0.7777777777777778,
                            "#fb9f3a"
                          ],
                          [
                            0.8888888888888888,
                            "#fdca26"
                          ],
                          [
                            1,
                            "#f0f921"
                          ]
                        ],
                        "type": "histogram2d"
                      }
                    ],
                    "histogram2dcontour": [
                      {
                        "colorbar": {
                          "outlinewidth": 0,
                          "ticks": ""
                        },
                        "colorscale": [
                          [
                            0,
                            "#0d0887"
                          ],
                          [
                            0.1111111111111111,
                            "#46039f"
                          ],
                          [
                            0.2222222222222222,
                            "#7201a8"
                          ],
                          [
                            0.3333333333333333,
                            "#9c179e"
                          ],
                          [
                            0.4444444444444444,
                            "#bd3786"
                          ],
                          [
                            0.5555555555555556,
                            "#d8576b"
                          ],
                          [
                            0.6666666666666666,
                            "#ed7953"
                          ],
                          [
                            0.7777777777777778,
                            "#fb9f3a"
                          ],
                          [
                            0.8888888888888888,
                            "#fdca26"
                          ],
                          [
                            1,
                            "#f0f921"
                          ]
                        ],
                        "type": "histogram2dcontour"
                      }
                    ],
                    "mesh3d": [
                      {
                        "colorbar": {
                          "outlinewidth": 0,
                          "ticks": ""
                        },
                        "type": "mesh3d"
                      }
                    ],
                    "parcoords": [
                      {
                        "line": {
                          "colorbar": {
                            "outlinewidth": 0,
                            "ticks": ""
                          }
                        },
                        "type": "parcoords"
                      }
                    ],
                    "pie": [
                      {
                        "automargin": true,
                        "type": "pie"
                      }
                    ],
                    "scatter": [
                      {
                        "fillpattern": {
                          "fillmode": "overlay",
                          "size": 10,
                          "solidity": 0.2
                        },
                        "type": "scatter"
                      }
                    ],
                    "scatter3d": [
                      {
                        "line": {
                          "colorbar": {
                            "outlinewidth": 0,
                            "ticks": ""
                          }
                        },
                        "marker": {
                          "colorbar": {
                            "outlinewidth": 0,
                            "ticks": ""
                          }
                        },
                        "type": "scatter3d"
                      }
                    ],
                    "scattercarpet": [
                      {
                        "marker": {
                          "colorbar": {
                            "outlinewidth": 0,
                            "ticks": ""
                          }
                        },
                        "type": "scattercarpet"
                      }
                    ],
                    "scattergeo": [
                      {
                        "marker": {
                          "colorbar": {
                            "outlinewidth": 0,
                            "ticks": ""
                          }
                        },
                        "type": "scattergeo"
                      }
                    ],
                    "scattergl": [
                      {
                        "marker": {
                          "colorbar": {
                            "outlinewidth": 0,
                            "ticks": ""
                          }
                        },
                        "type": "scattergl"
                      }
                    ],
                    "scattermapbox": [
                      {
                        "marker": {
                          "colorbar": {
                            "outlinewidth": 0,
                            "ticks": ""
                          }
                        },
                        "type": "scattermapbox"
                      }
                    ],
                    "scatterpolar": [
                      {
                        "marker": {
                          "colorbar": {
                            "outlinewidth": 0,
                            "ticks": ""
                          }
                        },
                        "type": "scatterpolar"
                      }
                    ],
                    "scatterpolargl": [
                      {
                        "marker": {
                          "colorbar": {
                            "outlinewidth": 0,
                            "ticks": ""
                          }
                        },
                        "type": "scatterpolargl"
                      }
                    ],
                    "scatterternary": [
                      {
                        "marker": {
                          "colorbar": {
                            "outlinewidth": 0,
                            "ticks": ""
                          }
                        },
                        "type": "scatterternary"
                      }
                    ],
                    "surface": [
                      {
                        "colorbar": {
                          "outlinewidth": 0,
                          "ticks": ""
                        },
                        "colorscale": [
                          [
                            0,
                            "#0d0887"
                          ],
                          [
                            0.1111111111111111,
                            "#46039f"
                          ],
                          [
                            0.2222222222222222,
                            "#7201a8"
                          ],
                          [
                            0.3333333333333333,
                            "#9c179e"
                          ],
                          [
                            0.4444444444444444,
                            "#bd3786"
                          ],
                          [
                            0.5555555555555556,
                            "#d8576b"
                          ],
                          [
                            0.6666666666666666,
                            "#ed7953"
                          ],
                          [
                            0.7777777777777778,
                            "#fb9f3a"
                          ],
                          [
                            0.8888888888888888,
                            "#fdca26"
                          ],
                          [
                            1,
                            "#f0f921"
                          ]
                        ],
                        "type": "surface"
                      }
                    ],
                    "table": [
                      {
                        "cells": {
                          "fill": {
                            "color": "#EBF0F8"
                          },
                          "line": {
                            "color": "white"
                          }
                        },
                        "header": {
                          "fill": {
                            "color": "#C8D4E3"
                          },
                          "line": {
                            "color": "white"
                          }
                        },
                        "type": "table"
                      }
                    ]
                  },
                  "layout": {
                    "annotationdefaults": {
                      "arrowcolor": "#2a3f5f",
                      "arrowhead": 0,
                      "arrowwidth": 1
                    },
                    "autotypenumbers": "strict",
                    "coloraxis": {
                      "colorbar": {
                        "outlinewidth": 0,
                        "ticks": ""
                      }
                    },
                    "colorscale": {
                      "diverging": [
                        [
                          0,
                          "#8e0152"
                        ],
                        [
                          0.1,
                          "#c51b7d"
                        ],
                        [
                          0.2,
                          "#de77ae"
                        ],
                        [
                          0.3,
                          "#f1b6da"
                        ],
                        [
                          0.4,
                          "#fde0ef"
                        ],
                        [
                          0.5,
                          "#f7f7f7"
                        ],
                        [
                          0.6,
                          "#e6f5d0"
                        ],
                        [
                          0.7,
                          "#b8e186"
                        ],
                        [
                          0.8,
                          "#7fbc41"
                        ],
                        [
                          0.9,
                          "#4d9221"
                        ],
                        [
                          1,
                          "#276419"
                        ]
                      ],
                      "sequential": [
                        [
                          0,
                          "#0d0887"
                        ],
                        [
                          0.1111111111111111,
                          "#46039f"
                        ],
                        [
                          0.2222222222222222,
                          "#7201a8"
                        ],
                        [
                          0.3333333333333333,
                          "#9c179e"
                        ],
                        [
                          0.4444444444444444,
                          "#bd3786"
                        ],
                        [
                          0.5555555555555556,
                          "#d8576b"
                        ],
                        [
                          0.6666666666666666,
                          "#ed7953"
                        ],
                        [
                          0.7777777777777778,
                          "#fb9f3a"
                        ],
                        [
                          0.8888888888888888,
                          "#fdca26"
                        ],
                        [
                          1,
                          "#f0f921"
                        ]
                      ],
                      "sequentialminus": [
                        [
                          0,
                          "#0d0887"
                        ],
                        [
                          0.1111111111111111,
                          "#46039f"
                        ],
                        [
                          0.2222222222222222,
                          "#7201a8"
                        ],
                        [
                          0.3333333333333333,
                          "#9c179e"
                        ],
                        [
                          0.4444444444444444,
                          "#bd3786"
                        ],
                        [
                          0.5555555555555556,
                          "#d8576b"
                        ],
                        [
                          0.6666666666666666,
                          "#ed7953"
                        ],
                        [
                          0.7777777777777778,
                          "#fb9f3a"
                        ],
                        [
                          0.8888888888888888,
                          "#fdca26"
                        ],
                        [
                          1,
                          "#f0f921"
                        ]
                      ]
                    },
                    "colorway": [
                      "#636efa",
                      "#EF553B",
                      "#00cc96",
                      "#ab63fa",
                      "#FFA15A",
                      "#19d3f3",
                      "#FF6692",
                      "#B6E880",
                      "#FF97FF",
                      "#FECB52"
                    ],
                    "font": {
                      "color": "#2a3f5f"
                    },
                    "geo": {
                      "bgcolor": "white",
                      "lakecolor": "white",
                      "landcolor": "#E5ECF6",
                      "showlakes": true,
                      "showland": true,
                      "subunitcolor": "white"
                    },
                    "hoverlabel": {
                      "align": "left"
                    },
                    "hovermode": "closest",
                    "mapbox": {
                      "style": "light"
                    },
                    "paper_bgcolor": "white",
                    "plot_bgcolor": "#E5ECF6",
                    "polar": {
                      "angularaxis": {
                        "gridcolor": "white",
                        "linecolor": "white",
                        "ticks": ""
                      },
                      "bgcolor": "#E5ECF6",
                      "radialaxis": {
                        "gridcolor": "white",
                        "linecolor": "white",
                        "ticks": ""
                      }
                    },
                    "scene": {
                      "xaxis": {
                        "backgroundcolor": "#E5ECF6",
                        "gridcolor": "white",
                        "gridwidth": 2,
                        "linecolor": "white",
                        "showbackground": true,
                        "ticks": "",
                        "zerolinecolor": "white"
                      },
                      "yaxis": {
                        "backgroundcolor": "#E5ECF6",
                        "gridcolor": "white",
                        "gridwidth": 2,
                        "linecolor": "white",
                        "showbackground": true,
                        "ticks": "",
                        "zerolinecolor": "white"
                      },
                      "zaxis": {
                        "backgroundcolor": "#E5ECF6",
                        "gridcolor": "white",
                        "gridwidth": 2,
                        "linecolor": "white",
                        "showbackground": true,
                        "ticks": "",
                        "zerolinecolor": "white"
                      }
                    },
                    "shapedefaults": {
                      "line": {
                        "color": "#2a3f5f"
                      }
                    },
                    "ternary": {
                      "aaxis": {
                        "gridcolor": "white",
                        "linecolor": "white",
                        "ticks": ""
                      },
                      "baxis": {
                        "gridcolor": "white",
                        "linecolor": "white",
                        "ticks": ""
                      },
                      "bgcolor": "#E5ECF6",
                      "caxis": {
                        "gridcolor": "white",
                        "linecolor": "white",
                        "ticks": ""
                      }
                    },
                    "title": {
                      "x": 0.05
                    },
                    "xaxis": {
                      "automargin": true,
                      "gridcolor": "white",
                      "linecolor": "white",
                      "ticks": "",
                      "title": {
                        "standoff": 15
                      },
                      "zerolinecolor": "white",
                      "zerolinewidth": 2
                    },
                    "yaxis": {
                      "automargin": true,
                      "gridcolor": "white",
                      "linecolor": "white",
                      "ticks": "",
                      "title": {
                        "standoff": 15
                      },
                      "zerolinecolor": "white",
                      "zerolinewidth": 2
                    }
                  }
                }
              }
            }
          },
          "metadata": {},
          "output_type": "display_data"
        }
      ],
      "source": [
        "#grafica en el mapa\n",
        "import plotly.express as px\n",
        "fig = px.scatter_geo(ciudad_destino_df, lat= 'latitud', lon= 'longitud', color=\"ciudad\", hover_name= 'ciudad', hover_data= ['precio_medio',], size= 'precio_medio'\n",
        "                    )\n",
        "fig.show()"
      ]
    },
    {
      "cell_type": "markdown",
      "metadata": {
        "id": "Bh6EQzHjc3VU"
      },
      "source": [
        "## P13: Haz una tabla de correlación, ¿hay variables númericas correladas con el precio?"
      ]
    },
    {
      "cell_type": "code",
      "execution_count": null,
      "metadata": {
        "id": "9OdM3YlPc3VU",
        "outputId": "56e95e19-96cd-4ddc-b888-b9351171329d"
      },
      "outputs": [
        {
          "data": {
            "text/html": [
              "<style type=\"text/css\">\n",
              "#T_3ae7d_row0_col0, #T_3ae7d_row1_col1, #T_3ae7d_row2_col2 {\n",
              "  background-color: #313695;\n",
              "  color: #f1f1f1;\n",
              "}\n",
              "#T_3ae7d_row0_col1 {\n",
              "  background-color: #feffc0;\n",
              "  color: #000000;\n",
              "}\n",
              "#T_3ae7d_row0_col2 {\n",
              "  background-color: #fca85e;\n",
              "  color: #000000;\n",
              "}\n",
              "#T_3ae7d_row1_col0 {\n",
              "  background-color: #fdad60;\n",
              "  color: #000000;\n",
              "}\n",
              "#T_3ae7d_row1_col2, #T_3ae7d_row2_col0, #T_3ae7d_row2_col1 {\n",
              "  background-color: #a50026;\n",
              "  color: #f1f1f1;\n",
              "}\n",
              "</style>\n",
              "<table id=\"T_3ae7d\">\n",
              "  <thead>\n",
              "    <tr>\n",
              "      <th class=\"blank level0\" >&nbsp;</th>\n",
              "      <th id=\"T_3ae7d_level0_col0\" class=\"col_heading level0 col0\" >precio</th>\n",
              "      <th id=\"T_3ae7d_level0_col1\" class=\"col_heading level0 col1\" >latitud</th>\n",
              "      <th id=\"T_3ae7d_level0_col2\" class=\"col_heading level0 col2\" >longitud</th>\n",
              "    </tr>\n",
              "  </thead>\n",
              "  <tbody>\n",
              "    <tr>\n",
              "      <th id=\"T_3ae7d_level0_row0\" class=\"row_heading level0 row0\" >precio</th>\n",
              "      <td id=\"T_3ae7d_row0_col0\" class=\"data row0 col0\" >1.000000</td>\n",
              "      <td id=\"T_3ae7d_row0_col1\" class=\"data row0 col1\" >0.570656</td>\n",
              "      <td id=\"T_3ae7d_row0_col2\" class=\"data row0 col2\" >0.387213</td>\n",
              "    </tr>\n",
              "    <tr>\n",
              "      <th id=\"T_3ae7d_level0_row1\" class=\"row_heading level0 row1\" >latitud</th>\n",
              "      <td id=\"T_3ae7d_row1_col0\" class=\"data row1 col0\" >0.570656</td>\n",
              "      <td id=\"T_3ae7d_row1_col1\" class=\"data row1 col1\" >1.000000</td>\n",
              "      <td id=\"T_3ae7d_row1_col2\" class=\"data row1 col2\" >0.137218</td>\n",
              "    </tr>\n",
              "    <tr>\n",
              "      <th id=\"T_3ae7d_level0_row2\" class=\"row_heading level0 row2\" >longitud</th>\n",
              "      <td id=\"T_3ae7d_row2_col0\" class=\"data row2 col0\" >0.387213</td>\n",
              "      <td id=\"T_3ae7d_row2_col1\" class=\"data row2 col1\" >0.137218</td>\n",
              "      <td id=\"T_3ae7d_row2_col2\" class=\"data row2 col2\" >1.000000</td>\n",
              "    </tr>\n",
              "  </tbody>\n",
              "</table>\n"
            ],
            "text/plain": [
              "<pandas.io.formats.style.Styler at 0x1d35c72d250>"
            ]
          },
          "execution_count": 32,
          "metadata": {},
          "output_type": "execute_result"
        }
      ],
      "source": [
        "ciudad_destino_df.corr().style.background_gradient(cmap=\"RdYlBu\")\n",
        "#la latitud y longitud tambien se correladan con el precio, ya que el precio es determinado tambien tomando como base la distancia \n"
      ]
    },
    {
      "cell_type": "markdown",
      "metadata": {
        "id": "C2CdMYthc3VU"
      },
      "source": [
        "## P14: Relación entre variables del dataset y `precio`"
      ]
    },
    {
      "cell_type": "markdown",
      "metadata": {
        "id": "7yiqazHcc3VU"
      },
      "source": [
        "### P14.1: Haz un scatter plot de precio vs. tiempo de viaje"
      ]
    },
    {
      "cell_type": "code",
      "execution_count": null,
      "metadata": {
        "id": "WIs9YKDLc3VU",
        "outputId": "98da6d6e-19e2-46ad-cfe2-46efee89e6fd"
      },
      "outputs": [
        {
          "data": {
            "image/png": "[encoded data removed]",
            "text/plain": [
              "<Figure size 640x480 with 1 Axes>"
            ]
          },
          "metadata": {},
          "output_type": "display_data"
        }
      ],
      "source": [
        "import matplotlib.pyplot as plt\n",
        "ciudad_destino_df['tiempo de viaje'] = tiempo_de_viaje #crie una nueva columna al df con la variable de tiempo de viaje\n",
        "plt.scatter(x = ciudad_destino_df['precio'], y= ciudad_destino_df['tiempo de viaje']) #hice un scatter plot con las variables precio y tiempo de viaje \n",
        "plt.xlabel('Precio') \n",
        "plt.ylabel('Tiempo de viaje')\n",
        "plt.show()\n"
      ]
    },
    {
      "cell_type": "markdown",
      "metadata": {
        "id": "TV2h9a11c3VU"
      },
      "source": [
        "### P14.2: Haz un boxplot de precio vs. dia de la semana"
      ]
    },
    {
      "cell_type": "code",
      "execution_count": null,
      "metadata": {
        "id": "M-YCjCc1c3VU",
        "outputId": "4ba720a7-4ea3-4f85-df8c-079ce110c070"
      },
      "outputs": [
        {
          "data": {
            "text/plain": [
              "<AxesSubplot:title={'center':'precio'}, xlabel='nombre_dia'>"
            ]
          },
          "execution_count": 41,
          "metadata": {},
          "output_type": "execute_result"
        },
        {
          "data": {
            "image/png": "[encoded data removed]",
            "text/plain": [
              "<Figure size 640x480 with 1 Axes>"
            ]
          },
          "metadata": {},
          "output_type": "display_data"
        }
      ],
      "source": [
        "ciudad_destino_df.boxplot(column=['precio'], by='nombre_dia')"
      ]
    },
    {
      "cell_type": "markdown",
      "metadata": {
        "id": "luZ9ziEec3VV"
      },
      "source": [
        "### P14.3: Gráfica el precio medio por día de la semana"
      ]
    },
    {
      "cell_type": "code",
      "execution_count": null,
      "metadata": {
        "id": "g3IgKMJHc3VV",
        "outputId": "7fcc1d6a-c41a-4666-a29f-a8cf48283c30"
      },
      "outputs": [
        {
          "data": {
            "text/plain": [
              "<BarContainer object of 7 artists>"
            ]
          },
          "execution_count": 55,
          "metadata": {},
          "output_type": "execute_result"
        },
        {
          "data": {
            "image/png": "[encoded data removed]",
            "text/plain": [
              "<Figure size 640x480 with 1 Axes>"
            ]
          },
          "metadata": {},
          "output_type": "display_data"
        }
      ],
      "source": [
        "mean_precio_dia_semana = renfe_df.groupby(['nombre_dia']).mean(['precio'])#sacar la media del precio por el día de la semana\n",
        "mean_precio_dia_semana\n",
        "plt.bar(mean_precio_dia_semana.index, mean_precio_dia_semana['precio'])#con el grafico del barra es posible relacionar una variable numérica con una categórica\n",
        "\n"
      ]
    },
    {
      "cell_type": "markdown",
      "metadata": {
        "id": "E_hHPz72c3VV"
      },
      "source": [
        "## P15: Crea un nuevo dataframe donge apliques *one-hot-encoding* a las variables categoricas"
      ]
    },
    {
      "cell_type": "code",
      "execution_count": null,
      "metadata": {
        "id": "07YE7FFLc3VV",
        "outputId": "a36aeddd-67cd-49a3-b410-f180f66f21d8"
      },
      "outputs": [
        {
          "data": {
            "text/html": [
              "<div>\n",
              "<style scoped>\n",
              "    .dataframe tbody tr th:only-of-type {\n",
              "        vertical-align: middle;\n",
              "    }\n",
              "\n",
              "    .dataframe tbody tr th {\n",
              "        vertical-align: top;\n",
              "    }\n",
              "\n",
              "    .dataframe thead th {\n",
              "        text-align: right;\n",
              "    }\n",
              "</style>\n",
              "<table border=\"1\" class=\"dataframe\">\n",
              "  <thead>\n",
              "    <tr style=\"text-align: right;\">\n",
              "      <th></th>\n",
              "      <th>ciudad_origen</th>\n",
              "      <th>ciudad_destino</th>\n",
              "      <th>tipo_tren</th>\n",
              "      <th>tipo_tarifa</th>\n",
              "      <th>clase</th>\n",
              "      <th>precio</th>\n",
              "      <th>nueva_fecha</th>\n",
              "      <th>nombre_dia</th>\n",
              "      <th>día</th>\n",
              "      <th>mes</th>\n",
              "      <th>...</th>\n",
              "      <th>hora_inicio_21:10:00</th>\n",
              "      <th>hora_inicio_21:15:00</th>\n",
              "      <th>hora_inicio_21:25:00</th>\n",
              "      <th>hora_inicio_22:00:00</th>\n",
              "      <th>hora_inicio_22:14:00</th>\n",
              "      <th>ciudad_BARCELONA</th>\n",
              "      <th>ciudad_MADRID</th>\n",
              "      <th>ciudad_PONFERRADA</th>\n",
              "      <th>ciudad_SEVILLA</th>\n",
              "      <th>ciudad_VALENCIA</th>\n",
              "    </tr>\n",
              "  </thead>\n",
              "  <tbody>\n",
              "    <tr>\n",
              "      <th>0</th>\n",
              "      <td>SEVILLA</td>\n",
              "      <td>MADRID</td>\n",
              "      <td>ALVIA</td>\n",
              "      <td>Flexible</td>\n",
              "      <td>Turista</td>\n",
              "      <td>67.20</td>\n",
              "      <td>2019-06-28</td>\n",
              "      <td>viernes</td>\n",
              "      <td>28</td>\n",
              "      <td>06</td>\n",
              "      <td>...</td>\n",
              "      <td>0</td>\n",
              "      <td>0</td>\n",
              "      <td>0</td>\n",
              "      <td>0</td>\n",
              "      <td>0</td>\n",
              "      <td>0</td>\n",
              "      <td>1</td>\n",
              "      <td>0</td>\n",
              "      <td>0</td>\n",
              "      <td>0</td>\n",
              "    </tr>\n",
              "    <tr>\n",
              "      <th>1</th>\n",
              "      <td>BARCELONA</td>\n",
              "      <td>MADRID</td>\n",
              "      <td>AVE</td>\n",
              "      <td>Flexible</td>\n",
              "      <td>Turista</td>\n",
              "      <td>107.70</td>\n",
              "      <td>2019-07-14</td>\n",
              "      <td>domingo</td>\n",
              "      <td>14</td>\n",
              "      <td>07</td>\n",
              "      <td>...</td>\n",
              "      <td>0</td>\n",
              "      <td>0</td>\n",
              "      <td>0</td>\n",
              "      <td>0</td>\n",
              "      <td>0</td>\n",
              "      <td>1</td>\n",
              "      <td>0</td>\n",
              "      <td>0</td>\n",
              "      <td>0</td>\n",
              "      <td>0</td>\n",
              "    </tr>\n",
              "    <tr>\n",
              "      <th>2</th>\n",
              "      <td>SEVILLA</td>\n",
              "      <td>MADRID</td>\n",
              "      <td>AVE</td>\n",
              "      <td>Promo</td>\n",
              "      <td>Turista</td>\n",
              "      <td>47.30</td>\n",
              "      <td>2019-05-23</td>\n",
              "      <td>jueves</td>\n",
              "      <td>23</td>\n",
              "      <td>05</td>\n",
              "      <td>...</td>\n",
              "      <td>0</td>\n",
              "      <td>0</td>\n",
              "      <td>0</td>\n",
              "      <td>0</td>\n",
              "      <td>0</td>\n",
              "      <td>0</td>\n",
              "      <td>0</td>\n",
              "      <td>0</td>\n",
              "      <td>1</td>\n",
              "      <td>0</td>\n",
              "    </tr>\n",
              "    <tr>\n",
              "      <th>3</th>\n",
              "      <td>VALENCIA</td>\n",
              "      <td>MADRID</td>\n",
              "      <td>REGIONAL</td>\n",
              "      <td>Adulto ida</td>\n",
              "      <td>Turista</td>\n",
              "      <td>28.35</td>\n",
              "      <td>2019-05-29</td>\n",
              "      <td>miercules</td>\n",
              "      <td>29</td>\n",
              "      <td>05</td>\n",
              "      <td>...</td>\n",
              "      <td>0</td>\n",
              "      <td>0</td>\n",
              "      <td>0</td>\n",
              "      <td>0</td>\n",
              "      <td>0</td>\n",
              "      <td>0</td>\n",
              "      <td>0</td>\n",
              "      <td>0</td>\n",
              "      <td>0</td>\n",
              "      <td>1</td>\n",
              "    </tr>\n",
              "    <tr>\n",
              "      <th>4</th>\n",
              "      <td>MADRID</td>\n",
              "      <td>BARCELONA</td>\n",
              "      <td>AVE-TGV</td>\n",
              "      <td>Promo</td>\n",
              "      <td>Turista</td>\n",
              "      <td>66.75</td>\n",
              "      <td>2019-06-26</td>\n",
              "      <td>miercules</td>\n",
              "      <td>26</td>\n",
              "      <td>06</td>\n",
              "      <td>...</td>\n",
              "      <td>0</td>\n",
              "      <td>0</td>\n",
              "      <td>0</td>\n",
              "      <td>0</td>\n",
              "      <td>0</td>\n",
              "      <td>0</td>\n",
              "      <td>0</td>\n",
              "      <td>1</td>\n",
              "      <td>0</td>\n",
              "      <td>0</td>\n",
              "    </tr>\n",
              "    <tr>\n",
              "      <th>...</th>\n",
              "      <td>...</td>\n",
              "      <td>...</td>\n",
              "      <td>...</td>\n",
              "      <td>...</td>\n",
              "      <td>...</td>\n",
              "      <td>...</td>\n",
              "      <td>...</td>\n",
              "      <td>...</td>\n",
              "      <td>...</td>\n",
              "      <td>...</td>\n",
              "      <td>...</td>\n",
              "      <td>...</td>\n",
              "      <td>...</td>\n",
              "      <td>...</td>\n",
              "      <td>...</td>\n",
              "      <td>...</td>\n",
              "      <td>...</td>\n",
              "      <td>...</td>\n",
              "      <td>...</td>\n",
              "      <td>...</td>\n",
              "      <td>...</td>\n",
              "    </tr>\n",
              "    <tr>\n",
              "      <th>383563</th>\n",
              "      <td>MADRID</td>\n",
              "      <td>VALENCIA</td>\n",
              "      <td>AVE</td>\n",
              "      <td>Flexible</td>\n",
              "      <td>Turista</td>\n",
              "      <td>73.10</td>\n",
              "      <td>2019-05-10</td>\n",
              "      <td>viernes</td>\n",
              "      <td>10</td>\n",
              "      <td>05</td>\n",
              "      <td>...</td>\n",
              "      <td>0</td>\n",
              "      <td>0</td>\n",
              "      <td>0</td>\n",
              "      <td>0</td>\n",
              "      <td>0</td>\n",
              "      <td>0</td>\n",
              "      <td>0</td>\n",
              "      <td>0</td>\n",
              "      <td>0</td>\n",
              "      <td>0</td>\n",
              "    </tr>\n",
              "    <tr>\n",
              "      <th>383564</th>\n",
              "      <td>BARCELONA</td>\n",
              "      <td>MADRID</td>\n",
              "      <td>AVE</td>\n",
              "      <td>Promo</td>\n",
              "      <td>Preferente</td>\n",
              "      <td>54.45</td>\n",
              "      <td>2019-08-05</td>\n",
              "      <td>lunes</td>\n",
              "      <td>05</td>\n",
              "      <td>08</td>\n",
              "      <td>...</td>\n",
              "      <td>0</td>\n",
              "      <td>0</td>\n",
              "      <td>0</td>\n",
              "      <td>0</td>\n",
              "      <td>0</td>\n",
              "      <td>0</td>\n",
              "      <td>0</td>\n",
              "      <td>0</td>\n",
              "      <td>0</td>\n",
              "      <td>0</td>\n",
              "    </tr>\n",
              "    <tr>\n",
              "      <th>383565</th>\n",
              "      <td>VALENCIA</td>\n",
              "      <td>MADRID</td>\n",
              "      <td>AVE</td>\n",
              "      <td>Promo</td>\n",
              "      <td>Turista</td>\n",
              "      <td>27.80</td>\n",
              "      <td>2019-04-29</td>\n",
              "      <td>lunes</td>\n",
              "      <td>29</td>\n",
              "      <td>04</td>\n",
              "      <td>...</td>\n",
              "      <td>0</td>\n",
              "      <td>0</td>\n",
              "      <td>0</td>\n",
              "      <td>0</td>\n",
              "      <td>0</td>\n",
              "      <td>0</td>\n",
              "      <td>0</td>\n",
              "      <td>0</td>\n",
              "      <td>0</td>\n",
              "      <td>0</td>\n",
              "    </tr>\n",
              "    <tr>\n",
              "      <th>383566</th>\n",
              "      <td>MADRID</td>\n",
              "      <td>SEVILLA</td>\n",
              "      <td>AVE</td>\n",
              "      <td>Promo</td>\n",
              "      <td>Turista</td>\n",
              "      <td>47.30</td>\n",
              "      <td>2019-07-07</td>\n",
              "      <td>domingo</td>\n",
              "      <td>07</td>\n",
              "      <td>07</td>\n",
              "      <td>...</td>\n",
              "      <td>0</td>\n",
              "      <td>0</td>\n",
              "      <td>0</td>\n",
              "      <td>0</td>\n",
              "      <td>0</td>\n",
              "      <td>0</td>\n",
              "      <td>0</td>\n",
              "      <td>0</td>\n",
              "      <td>0</td>\n",
              "      <td>0</td>\n",
              "    </tr>\n",
              "    <tr>\n",
              "      <th>383567</th>\n",
              "      <td>VALENCIA</td>\n",
              "      <td>MADRID</td>\n",
              "      <td>AVE</td>\n",
              "      <td>Flexible</td>\n",
              "      <td>Turista</td>\n",
              "      <td>73.10</td>\n",
              "      <td>2019-06-16</td>\n",
              "      <td>domingo</td>\n",
              "      <td>16</td>\n",
              "      <td>06</td>\n",
              "      <td>...</td>\n",
              "      <td>0</td>\n",
              "      <td>0</td>\n",
              "      <td>0</td>\n",
              "      <td>0</td>\n",
              "      <td>0</td>\n",
              "      <td>0</td>\n",
              "      <td>0</td>\n",
              "      <td>0</td>\n",
              "      <td>0</td>\n",
              "      <td>0</td>\n",
              "    </tr>\n",
              "  </tbody>\n",
              "</table>\n",
              "<p>382195 rows × 150 columns</p>\n",
              "</div>"
            ],
            "text/plain": [
              "       ciudad_origen ciudad_destino tipo_tren tipo_tarifa       clase  precio  \\\n",
              "0            SEVILLA         MADRID     ALVIA    Flexible     Turista   67.20   \n",
              "1          BARCELONA         MADRID       AVE    Flexible     Turista  107.70   \n",
              "2            SEVILLA         MADRID       AVE       Promo     Turista   47.30   \n",
              "3           VALENCIA         MADRID  REGIONAL  Adulto ida     Turista   28.35   \n",
              "4             MADRID      BARCELONA   AVE-TGV       Promo     Turista   66.75   \n",
              "...              ...            ...       ...         ...         ...     ...   \n",
              "383563        MADRID       VALENCIA       AVE    Flexible     Turista   73.10   \n",
              "383564     BARCELONA         MADRID       AVE       Promo  Preferente   54.45   \n",
              "383565      VALENCIA         MADRID       AVE       Promo     Turista   27.80   \n",
              "383566        MADRID        SEVILLA       AVE       Promo     Turista   47.30   \n",
              "383567      VALENCIA         MADRID       AVE    Flexible     Turista   73.10   \n",
              "\n",
              "       nueva_fecha nombre_dia día mes  ...  hora_inicio_21:10:00  \\\n",
              "0       2019-06-28    viernes  28  06  ...                     0   \n",
              "1       2019-07-14    domingo  14  07  ...                     0   \n",
              "2       2019-05-23     jueves  23  05  ...                     0   \n",
              "3       2019-05-29  miercules  29  05  ...                     0   \n",
              "4       2019-06-26  miercules  26  06  ...                     0   \n",
              "...            ...        ...  ..  ..  ...                   ...   \n",
              "383563  2019-05-10    viernes  10  05  ...                     0   \n",
              "383564  2019-08-05      lunes  05  08  ...                     0   \n",
              "383565  2019-04-29      lunes  29  04  ...                     0   \n",
              "383566  2019-07-07    domingo  07  07  ...                     0   \n",
              "383567  2019-06-16    domingo  16  06  ...                     0   \n",
              "\n",
              "        hora_inicio_21:15:00  hora_inicio_21:25:00  hora_inicio_22:00:00  \\\n",
              "0                          0                     0                     0   \n",
              "1                          0                     0                     0   \n",
              "2                          0                     0                     0   \n",
              "3                          0                     0                     0   \n",
              "4                          0                     0                     0   \n",
              "...                      ...                   ...                   ...   \n",
              "383563                     0                     0                     0   \n",
              "383564                     0                     0                     0   \n",
              "383565                     0                     0                     0   \n",
              "383566                     0                     0                     0   \n",
              "383567                     0                     0                     0   \n",
              "\n",
              "        hora_inicio_22:14:00  ciudad_BARCELONA  ciudad_MADRID  \\\n",
              "0                          0                 0              1   \n",
              "1                          0                 1              0   \n",
              "2                          0                 0              0   \n",
              "3                          0                 0              0   \n",
              "4                          0                 0              0   \n",
              "...                      ...               ...            ...   \n",
              "383563                     0                 0              0   \n",
              "383564                     0                 0              0   \n",
              "383565                     0                 0              0   \n",
              "383566                     0                 0              0   \n",
              "383567                     0                 0              0   \n",
              "\n",
              "        ciudad_PONFERRADA  ciudad_SEVILLA  ciudad_VALENCIA  \n",
              "0                       0               0                0  \n",
              "1                       0               0                0  \n",
              "2                       0               1                0  \n",
              "3                       0               0                1  \n",
              "4                       1               0                0  \n",
              "...                   ...             ...              ...  \n",
              "383563                  0               0                0  \n",
              "383564                  0               0                0  \n",
              "383565                  0               0                0  \n",
              "383566                  0               0                0  \n",
              "383567                  0               0                0  \n",
              "\n",
              "[382195 rows x 150 columns]"
            ]
          },
          "execution_count": 44,
          "metadata": {},
          "output_type": "execute_result"
        }
      ],
      "source": [
        "df_copy = ciudad_destino_df.copy()#voy trabajar con una copia del df\n",
        "df_one_hot = pd.get_dummies(data = df_copy) #dataframe con el one-hot-encoding para todas las variables categoricas\n",
        "df_one_hot\n",
        "\n"
      ]
    }
  ],
  "metadata": {
    "kernelspec": {
      "display_name": "Nuclio",
      "language": "python",
      "name": "python3"
    },
    "language_info": {
      "codemirror_mode": {
        "name": "ipython",
        "version": 3
      },
      "file_extension": ".py",
      "mimetype": "text/x-python",
      "name": "python",
      "nbconvert_exporter": "python",
      "pygments_lexer": "ipython3",
      "version": "3.9.13"
    },
    "vscode": {
      "interpreter": {
        "hash": "c327170b7eacacc0d087e33adf2513d3bb36e8218a7547ad542d6ef23f4185e6"
      }
    },
    "colab": {
      "provenance": [],
      "include_colab_link": true
    }
  },
  "nbformat": 4,
  "nbformat_minor": 0
}